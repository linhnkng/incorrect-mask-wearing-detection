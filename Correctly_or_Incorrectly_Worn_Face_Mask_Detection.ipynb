{
 "cells": [
  {
   "cell_type": "markdown",
   "metadata": {
    "id": "1xpUjIewq3tu"
   },
   "source": [
    "# Correctly/Incorrectly Worn Face Mask Detection"
   ]
  },
  {
   "cell_type": "markdown",
   "metadata": {
    "id": "RWE8awgKC8o0"
   },
   "source": [
    "## Setting up"
   ]
  },
  {
   "cell_type": "code",
   "execution_count": 1,
   "metadata": {},
   "outputs": [
    {
     "data": {
      "text/plain": [
       "'/usr/local/opt/python@3.9/bin/python3.9'"
      ]
     },
     "execution_count": 1,
     "metadata": {},
     "output_type": "execute_result"
    }
   ],
   "source": [
    "import sys\n",
    "sys.path\n",
    "sys.executable"
   ]
  },
  {
   "cell_type": "code",
   "execution_count": 3,
   "metadata": {
    "id": "9iBBd-AIE7JA"
   },
   "outputs": [],
   "source": [
    "import numpy as np\n",
    "import pandas as pd \n",
    "import matplotlib.pyplot as plt\n",
    "\n",
    "from sklearn.model_selection import train_test_split\n",
    "\n",
    "import tensorflow as tf\n",
    "from tensorflow import keras\n",
    "from keras.preprocessing.image import ImageDataGenerator, load_img\n",
    "from tensorflow.keras.layers import Input\n",
    "from tensorflow.keras.utils import to_categorical\n",
    "from tensorflow.keras.layers import AveragePooling2D\n",
    "from keras.models import Model, Sequential\n",
    "from keras.layers import GlobalAveragePooling2D, Dropout, Dense, Activation, BatchNormalization, Conv2D, MaxPool2D, Flatten, MaxPooling2D\n",
    "from tensorflow.keras.optimizers import Adam\n",
    "import random\n",
    "import os\n",
    "from collections import Counter\n",
    "from sklearn.metrics import confusion_matrix\n",
    "from sklearn.metrics import classification_report\n",
    "import itertools\n",
    "from tensorflow.compat.v1 import InteractiveSession\n",
    "from tensorflow.compat.v1 import ConfigProto\n",
    "import cv2"
   ]
  },
  {
   "cell_type": "code",
   "execution_count": 4,
   "metadata": {
    "id": "cWMjE50WC_v3"
   },
   "outputs": [],
   "source": [
    "IMAGE_SIZE = (300, 300) # resizing to reduce number of parameters\n",
    "IMG_DIR = '/Users/linh/Desktop/data' #change the directory accordingly\n",
    "BATCH_SIZE = 64\n",
    "NUM_CLASSES = 5 # 5 classes within the accumulated dataset"
   ]
  },
  {
   "cell_type": "markdown",
   "metadata": {
    "id": "rc-3ZAFZB_tX"
   },
   "source": [
    "## Create dataset"
   ]
  },
  {
   "cell_type": "code",
   "execution_count": 6,
   "metadata": {
    "colab": {
     "base_uri": "https://localhost:8080/",
     "height": 408
    },
    "id": "YTLuV07F22B-",
    "outputId": "ae5e4723-8623-439b-926f-a4336a874488"
   },
   "outputs": [
    {
     "name": "stderr",
     "output_type": "stream",
     "text": [
      "/Users/nguyen_l5/opt/anaconda3/envs/myenv/lib/python3.7/site-packages/ipykernel_launcher.py:16: SettingWithCopyWarning: \n",
      "A value is trying to be set on a copy of a slice from a DataFrame.\n",
      "Try using .loc[row_indexer,col_indexer] = value instead\n",
      "\n",
      "See the caveats in the documentation: https://pandas.pydata.org/pandas-docs/stable/user_guide/indexing.html#returning-a-view-versus-a-copy\n",
      "  app.launch_new_instance()\n",
      "/Users/nguyen_l5/opt/anaconda3/envs/myenv/lib/python3.7/site-packages/ipykernel_launcher.py:17: SettingWithCopyWarning: \n",
      "A value is trying to be set on a copy of a slice from a DataFrame.\n",
      "Try using .loc[row_indexer,col_indexer] = value instead\n",
      "\n",
      "See the caveats in the documentation: https://pandas.pydata.org/pandas-docs/stable/user_guide/indexing.html#returning-a-view-versus-a-copy\n"
     ]
    },
    {
     "data": {
      "text/html": [
       "<div>\n",
       "<style scoped>\n",
       "    .dataframe tbody tr th:only-of-type {\n",
       "        vertical-align: middle;\n",
       "    }\n",
       "\n",
       "    .dataframe tbody tr th {\n",
       "        vertical-align: top;\n",
       "    }\n",
       "\n",
       "    .dataframe thead th {\n",
       "        text-align: right;\n",
       "    }\n",
       "</style>\n",
       "<table border=\"1\" class=\"dataframe\">\n",
       "  <thead>\n",
       "    <tr style=\"text-align: right;\">\n",
       "      <th></th>\n",
       "      <th>filename</th>\n",
       "      <th>category</th>\n",
       "      <th>set</th>\n",
       "    </tr>\n",
       "  </thead>\n",
       "  <tbody>\n",
       "    <tr>\n",
       "      <th>858</th>\n",
       "      <td>correct/00585_Mask.jpg</td>\n",
       "      <td>correct</td>\n",
       "      <td>train</td>\n",
       "    </tr>\n",
       "    <tr>\n",
       "      <th>2531</th>\n",
       "      <td>incorrect/05832_Mask_Chin.jpg</td>\n",
       "      <td>Chin</td>\n",
       "      <td>train</td>\n",
       "    </tr>\n",
       "    <tr>\n",
       "      <th>434</th>\n",
       "      <td>correct/00371_Mask.jpg</td>\n",
       "      <td>correct</td>\n",
       "      <td>train</td>\n",
       "    </tr>\n",
       "    <tr>\n",
       "      <th>1110</th>\n",
       "      <td>maskoff/0_0_baojianfeng_0226.jpg</td>\n",
       "      <td>maskoff</td>\n",
       "      <td>train</td>\n",
       "    </tr>\n",
       "    <tr>\n",
       "      <th>2719</th>\n",
       "      <td>incorrect/00223_Mask_Nose_Mouth.jpg</td>\n",
       "      <td>Nose_Mouth</td>\n",
       "      <td>train</td>\n",
       "    </tr>\n",
       "  </tbody>\n",
       "</table>\n",
       "</div>"
      ],
      "text/plain": [
       "                                 filename    category    set\n",
       "858                correct/00585_Mask.jpg     correct  train\n",
       "2531        incorrect/05832_Mask_Chin.jpg        Chin  train\n",
       "434                correct/00371_Mask.jpg     correct  train\n",
       "1110     maskoff/0_0_baojianfeng_0226.jpg     maskoff  train\n",
       "2719  incorrect/00223_Mask_Nose_Mouth.jpg  Nose_Mouth  train"
      ]
     },
     "execution_count": 6,
     "metadata": {},
     "output_type": "execute_result"
    }
   ],
   "source": [
    "dataset = []\n",
    "for fold in os.listdir(IMG_DIR):\n",
    "    if fold == 'incorrect':\n",
    "        for filename in os.listdir(f'{IMG_DIR}/{fold}'):\n",
    "            dataset.append((f'{fold}/{filename}', filename[11:].split('.')[0]))\n",
    "    elif fold == 'maskoff':\n",
    "        for filename in os.listdir(f'{IMG_DIR}/{fold}'):\n",
    "            dataset.append((f'{fold}/{filename}', fold))\n",
    "    else:\n",
    "        for filename in os.listdir(f'{IMG_DIR}/{fold}'):\n",
    "            dataset.append((f'{fold}/{filename}', fold))\n",
    "\n",
    "df = pd.DataFrame(dataset, columns = ['filename', 'category'])\n",
    "# using train_test_split to split the dataset into train and test sets with a ratio of 80-20\n",
    "df_train, df_test = train_test_split(df, random_state = 123, stratify = df.category, test_size = 0.2)\n",
    "df_train['set'] = 'train'\n",
    "df_test['set'] = 'test'\n",
    "df = df_train.append(df_test)\n",
    "df.to_csv('/Users/nguyen_l5/Downloads/dataset.csv', index = False)\n",
    "df.head()"
   ]
  },
  {
   "cell_type": "code",
   "execution_count": 7,
   "metadata": {
    "colab": {
     "base_uri": "https://localhost:8080/"
    },
    "id": "_H38tu0J7QnM",
    "outputId": "83183cb6-c06e-4ffc-80c8-e175b0dc701f"
   },
   "outputs": [
    {
     "data": {
      "text/plain": [
       "correct       950\n",
       "Mouth_Chin    896\n",
       "Chin          825\n",
       "maskoff       708\n",
       "Nose_Mouth    672\n",
       "Name: category, dtype: int64"
      ]
     },
     "execution_count": 7,
     "metadata": {},
     "output_type": "execute_result"
    }
   ],
   "source": [
    "# distribution of data among classes\n",
    "df['category'].value_counts()"
   ]
  },
  {
   "cell_type": "code",
   "execution_count": 8,
   "metadata": {
    "id": "fjQDkpG6FL1N"
   },
   "outputs": [],
   "source": [
    "train_df = df[df['set'] == 'train'].reset_index(drop = True)\n",
    "test_df = df[df['set'] == 'test'].reset_index(drop = True)"
   ]
  },
  {
   "cell_type": "markdown",
   "metadata": {
    "id": "N1kdRwiVdoX3"
   },
   "source": [
    "## Traditional Neural Network"
   ]
  },
  {
   "cell_type": "code",
   "execution_count": null,
   "metadata": {
    "colab": {
     "base_uri": "https://localhost:8080/"
    },
    "id": "4A-E-Yijdq6E",
    "outputId": "431d8b5e-ddcd-4d5c-95b6-8ada0ca904d4"
   },
   "outputs": [],
   "source": [
    "# creating a data generator for both the train and test set that adds noise to data\n",
    "def add_noise(img):\n",
    "    '''Add random noise to an image'''\n",
    "    VARIABILITY = 8\n",
    "    deviation = VARIABILITY*random.random()\n",
    "    noise = np.random.normal(0, deviation, img.shape)\n",
    "    img += noise\n",
    "    np.clip(img, 0., 255.)\n",
    "    return img\n",
    "\n",
    "\n",
    "training_datagen = ImageDataGenerator(\n",
    "    brightness_range=[0.2, 1.6],  # adding brightness range to images\n",
    "    rescale = 1./255,            # rescaling\n",
    "    rotation_range=5,           # rotating by 5 degrees\n",
    "    width_shift_range=0.1,     # shifting width\n",
    "    height_shift_range=0.1,   # shifting height\n",
    "    shear_range=0.2,         # adding image distortion along an axis\n",
    "    zoom_range=0.2,         # adding zoom range\n",
    "    horizontal_flip=True,  # flipping the image\n",
    "    fill_mode=\"nearest\",\n",
    "    preprocessing_function=add_noise)\n",
    "\n",
    "train_generator = training_datagen.flow_from_dataframe(\n",
    "    train_df,\n",
    "    IMG_DIR,\n",
    "    x_col = 'filename',\n",
    "    y_col = 'category',\n",
    "    class_mode = 'categorical',\n",
    "    color_mode = 'grayscale', #changing to greyscale channel\n",
    "    batch_size = BATCH_SIZE,\n",
    "    seed = 123, # setting a seed to ensure consistency\n",
    "    target_size = IMAGE_SIZE)\n",
    "\n",
    "validation_datagen = ImageDataGenerator(\n",
    "      rescale = 1./255)\n",
    "\n",
    "\n",
    "validation_generator = validation_datagen.flow_from_dataframe(\n",
    "    test_df,\n",
    "    IMG_DIR,\n",
    "    x_col = 'filename',\n",
    "    y_col = 'category',\n",
    "    color_mode = 'grayscale', #changing to greyscale channel\n",
    "    class_mode = 'categorical',\n",
    "    batch_size = BATCH_SIZE,\n",
    "    target_size = IMAGE_SIZE,\n",
    "    shuffle = False,\n",
    "    seed = 123 # setting a seed to ensure consistency\n",
    "    )"
   ]
  },
  {
   "cell_type": "code",
   "execution_count": 10,
   "metadata": {},
   "outputs": [
    {
     "data": {
      "text/plain": [
       "{'Chin': 0, 'Mouth_Chin': 1, 'Nose_Mouth': 2, 'correct': 3, 'maskoff': 4}"
      ]
     },
     "execution_count": 10,
     "metadata": {},
     "output_type": "execute_result"
    }
   ],
   "source": [
    "label_map = (train_generator.class_indices)\n",
    "label_map"
   ]
  },
  {
   "cell_type": "code",
   "execution_count": 11,
   "metadata": {
    "colab": {
     "base_uri": "https://localhost:8080/"
    },
    "id": "yW40Am1bmt_L",
    "outputId": "3508a972-4250-40cf-a79f-957d7adbf312"
   },
   "outputs": [
    {
     "name": "stdout",
     "output_type": "stream",
     "text": [
      "Model: \"sequential\"\n",
      "_________________________________________________________________\n",
      " Layer (type)                Output Shape              Param #   \n",
      "=================================================================\n",
      " conv2d (Conv2D)             (None, 298, 298, 32)      320       \n",
      "                                                                 \n",
      " max_pooling2d (MaxPooling2D  (None, 149, 149, 32)     0         \n",
      " )                                                               \n",
      "                                                                 \n",
      " conv2d_1 (Conv2D)           (None, 145, 145, 64)      51264     \n",
      "                                                                 \n",
      " max_pooling2d_1 (MaxPooling  (None, 72, 72, 64)       0         \n",
      " 2D)                                                             \n",
      "                                                                 \n",
      " conv2d_2 (Conv2D)           (None, 68, 68, 128)       204928    \n",
      "                                                                 \n",
      " max_pooling2d_2 (MaxPooling  (None, 34, 34, 128)      0         \n",
      " 2D)                                                             \n",
      "                                                                 \n",
      " conv2d_3 (Conv2D)           (None, 32, 32, 128)       147584    \n",
      "                                                                 \n",
      " max_pooling2d_3 (MaxPooling  (None, 16, 16, 128)      0         \n",
      " 2D)                                                             \n",
      "                                                                 \n",
      " flatten (Flatten)           (None, 32768)             0         \n",
      "                                                                 \n",
      " dropout (Dropout)           (None, 32768)             0         \n",
      "                                                                 \n",
      " dense (Dense)               (None, 512)               16777728  \n",
      "                                                                 \n",
      " dense_1 (Dense)             (None, 256)               131328    \n",
      "                                                                 \n",
      " dense_2 (Dense)             (None, 5)                 1285      \n",
      "                                                                 \n",
      "=================================================================\n",
      "Total params: 17,314,437\n",
      "Trainable params: 17,314,437\n",
      "Non-trainable params: 0\n",
      "_________________________________________________________________\n"
     ]
    },
    {
     "name": "stderr",
     "output_type": "stream",
     "text": [
      "2021-12-06 22:50:47.796851: I tensorflow/core/platform/cpu_feature_guard.cc:151] This TensorFlow binary is optimized with oneAPI Deep Neural Network Library (oneDNN) to use the following CPU instructions in performance-critical operations:  AVX2 AVX512F FMA\n",
      "To enable them in other operations, rebuild TensorFlow with the appropriate compiler flags.\n"
     ]
    }
   ],
   "source": [
    "# creating the network architecture\n",
    "model = tf.keras.models.Sequential([\n",
    "    tf.keras.layers.Conv2D(32, (3,3), activation = 'relu', input_shape=IMAGE_SIZE+(1,)), # 1 for greyscale, 3 for RGB\n",
    "    tf.keras.layers.MaxPooling2D(2, 2),\n",
    "    tf.keras.layers.Conv2D(64, (5,5), activation = 'relu'),\n",
    "    tf.keras.layers.MaxPooling2D(2,2),\n",
    "    tf.keras.layers.Conv2D(128, (5,5), activation = 'relu'),\n",
    "    tf.keras.layers.MaxPooling2D(2,2),\n",
    "    tf.keras.layers.Conv2D(128, (3,3), activation = 'relu'),\n",
    "    tf.keras.layers.MaxPooling2D(2,2),\n",
    "    \n",
    "    tf.keras.layers.Flatten(),\n",
    "    tf.keras.layers.Dropout(0.5),                  # adding a drop-out rate of 50%\n",
    "    tf.keras.layers.Dense(512, activation='relu'),\n",
    "    tf.keras.layers.Dense(256, activation='relu'),\n",
    "    tf.keras.layers.Dense(5, activation='softmax') # 5 because there are 5 classes\n",
    "])\n",
    "model.summary()"
   ]
  },
  {
   "cell_type": "code",
   "execution_count": 12,
   "metadata": {
    "id": "VBoKxuUyYS2Z"
   },
   "outputs": [],
   "source": [
    "EPOCHS = 40\n",
    "INIT_LR = 1e-4 # for the Adam optimizer\n",
    "callback = tf.keras.callbacks.EarlyStopping(monitor='loss', patience=3) # stopping if there is no significant difference\n",
    "                                                                        # in loss after 3 epochs\n",
    "\n",
    "# compiling the model\n",
    "model.compile(\n",
    "    optimizer = keras.optimizers.Adam(\n",
    "        learning_rate = INIT_LR, \n",
    "        decay = INIT_LR / EPOCHS),\n",
    "    \n",
    "    loss = keras.losses.categorical_crossentropy,\n",
    "    metrics = [\"accuracy\"],\n",
    ")"
   ]
  },
  {
   "cell_type": "code",
   "execution_count": null,
   "metadata": {
    "colab": {
     "base_uri": "https://localhost:8080/"
    },
    "id": "oQneiUEnmzoa",
    "outputId": "652ff3ef-39c9-4334-91a0-ac60138cfded"
   },
   "outputs": [],
   "source": [
    "# fitting the model\n",
    "\n",
    "CNN = model.fit(\n",
    "    train_generator, \n",
    "    epochs = EPOCHS, \n",
    "    batch_size = BATCH_SIZE,\n",
    "    validation_data = validation_generator,\n",
    "    validation_batch_size = BATCH_SIZE,\n",
    "    callbacks = [callback]\n",
    ")"
   ]
  },
  {
   "cell_type": "code",
   "execution_count": null,
   "metadata": {
    "colab": {
     "base_uri": "https://localhost:8080/"
    },
    "id": "ZlvQtCh-JBWB",
    "outputId": "572e53d5-6bac-4a6f-e99a-4f7596e0e551"
   },
   "outputs": [],
   "source": [
    "# saving the model\n",
    "model.save('/Users/nguyen_l5/Downloads/model_weights_changingDataGen')"
   ]
  },
  {
   "cell_type": "markdown",
   "metadata": {
    "id": "zvncF893am5J"
   },
   "source": [
    "## Accuracy"
   ]
  },
  {
   "cell_type": "code",
   "execution_count": 13,
   "metadata": {},
   "outputs": [],
   "source": [
    "new_model = tf.keras.models.load_model('/Users/nguyen_l5/Downloads/model_weights_changingDataGen') # loading model weights"
   ]
  },
  {
   "cell_type": "code",
   "execution_count": 40,
   "metadata": {},
   "outputs": [
    {
     "name": "stderr",
     "output_type": "stream",
     "text": [
      "2021-12-17 14:20:27.691493: I tensorflow/core/platform/cpu_feature_guard.cc:151] This TensorFlow binary is optimized with oneAPI Deep Neural Network Library (oneDNN) to use the following CPU instructions in performance-critical operations:  AVX2 FMA\n",
      "To enable them in other operations, rebuild TensorFlow with the appropriate compiler flags.\n"
     ]
    }
   ],
   "source": [
    "new_model = tf.keras.models.load_model('/Users/linh/Downloads/model_weights_changingDataGen_2')"
   ]
  },
  {
   "cell_type": "code",
   "execution_count": 14,
   "metadata": {},
   "outputs": [
    {
     "name": "stdout",
     "output_type": "stream",
     "text": [
      "Model: \"sequential\"\n",
      "_________________________________________________________________\n",
      " Layer (type)                Output Shape              Param #   \n",
      "=================================================================\n",
      " conv2d (Conv2D)             (None, 298, 298, 32)      320       \n",
      "                                                                 \n",
      " max_pooling2d (MaxPooling2D  (None, 149, 149, 32)     0         \n",
      " )                                                               \n",
      "                                                                 \n",
      " conv2d_1 (Conv2D)           (None, 145, 145, 64)      51264     \n",
      "                                                                 \n",
      " max_pooling2d_1 (MaxPooling  (None, 72, 72, 64)       0         \n",
      " 2D)                                                             \n",
      "                                                                 \n",
      " conv2d_2 (Conv2D)           (None, 68, 68, 128)       204928    \n",
      "                                                                 \n",
      " max_pooling2d_2 (MaxPooling  (None, 34, 34, 128)      0         \n",
      " 2D)                                                             \n",
      "                                                                 \n",
      " conv2d_3 (Conv2D)           (None, 32, 32, 128)       147584    \n",
      "                                                                 \n",
      " max_pooling2d_3 (MaxPooling  (None, 16, 16, 128)      0         \n",
      " 2D)                                                             \n",
      "                                                                 \n",
      " flatten (Flatten)           (None, 32768)             0         \n",
      "                                                                 \n",
      " dropout (Dropout)           (None, 32768)             0         \n",
      "                                                                 \n",
      " dense (Dense)               (None, 512)               16777728  \n",
      "                                                                 \n",
      " dense_1 (Dense)             (None, 256)               131328    \n",
      "                                                                 \n",
      " dense_2 (Dense)             (None, 5)                 1285      \n",
      "                                                                 \n",
      "=================================================================\n",
      "Total params: 17,314,437\n",
      "Trainable params: 17,314,437\n",
      "Non-trainable params: 0\n",
      "_________________________________________________________________\n"
     ]
    }
   ],
   "source": [
    "new_model.summary()"
   ]
  },
  {
   "cell_type": "code",
   "execution_count": null,
   "metadata": {
    "colab": {
     "base_uri": "https://localhost:8080/",
     "height": 411
    },
    "id": "aUVoUlTNLz_W",
    "outputId": "93bb202a-ff22-4e65-9617-886a23b204b4"
   },
   "outputs": [],
   "source": [
    "def show_accuracy(history):\n",
    "    acc = history.history['accuracy']\n",
    "    val_acc = history.history['val_accuracy']\n",
    "    loss = history.history['loss']\n",
    "    val_loss = history.history['val_loss']\n",
    "    epochs = range(1, len(acc)+1)\n",
    "    \n",
    "    fig, ax1 = plt.subplots()\n",
    "    fig.tight_layout()\n",
    "    ax1.axis(ymin = 0.3, ymax = 1.0)\n",
    "    ax1.set_xlabel('epochs')\n",
    "    ax1.set_ylabel('accurary')\n",
    "    ax1.plot(epochs, acc, 'r--', label = 'Training accuracy')\n",
    "    ax1.plot(epochs, val_acc, 'b', label = 'Validation accuracy')\n",
    "    ax2 = ax1.twinx() \n",
    "    ax2.set_ylabel('loss')\n",
    "    ax2.axis(ymin = 0.0, ymax = 2.7)\n",
    "    ax2.plot(epochs, loss, 'r--', label = 'Training')\n",
    "    ax2.plot(epochs, val_loss, 'b', label = 'Validation')\n",
    "    \n",
    "    plt.title('Training and validation accuracy / loss')\n",
    "    plt.legend(loc = \"lower left\")\n",
    "    plt.show()\n",
    "\n",
    "show_accuracy(CNN) # can only be used with model trained within the opening time of the notebook as this graph calls\n",
    "                   # calls for the loss and accuracy during training"
   ]
  },
  {
   "cell_type": "code",
   "execution_count": null,
   "metadata": {
    "colab": {
     "base_uri": "https://localhost:8080/",
     "height": 501
    },
    "id": "zaHKGvC5Jhhh",
    "outputId": "db5dec5c-2a32-4e61-d5ad-369bd6f32db7",
    "scrolled": true
   },
   "outputs": [],
   "source": [
    "def plot_confusion_matrix(cm, classes_map,\n",
    "                          normalize=False,\n",
    "                          title='Confusion Matrix',\n",
    "                          cmap=plt.cm.Blues):\n",
    "\n",
    "    plt.imshow(cm, interpolation='nearest', cmap = cmap)\n",
    "    plt.title(title)\n",
    "    plt.colorbar()\n",
    "    tick_marks = np.arange(len(classes_map))\n",
    "    inv_map = {v: k for k, v in classes_map.items()}\n",
    "    labels = inv_map.values()\n",
    "    plt.xticks(tick_marks, labels, rotation=45)\n",
    "    plt.yticks(tick_marks, labels)\n",
    "    if normalize:\n",
    "        cm = np.around(cm.astype('float') / cm.sum(axis = 1)[:, np.newaxis], 2)\n",
    "    thresh = cm.max() / 2.\n",
    "    for i, j in itertools.product(range(cm.shape[0]), range(cm.shape[1])):\n",
    "        plt.text(j, i, cm[i, j],\n",
    "                 horizontalalignment=\"center\",\n",
    "                 color = \"white\" if cm[i, j] > thresh else \"black\")\n",
    "    plt.tight_layout()\n",
    "    plt.ylabel('True class')\n",
    "    plt.xlabel('Predicted class')\n",
    "\n",
    "\n",
    "validation_classes = []\n",
    "validation_images = []\n",
    "\n",
    "for i in range( -(-validation_generator.samples // validation_generator.batch_size)):\n",
    "    batch = validation_generator.next()\n",
    "    expected = np.argmax(batch[1], axis = 1) \n",
    "    validation_classes.extend(expected)\n",
    "    validation_images.extend(batch[0])\n",
    "\n",
    "validation_classes = np.array(validation_classes)\n",
    "validation_images = np.array(validation_images)\n",
    "\n",
    "Y_pred = new_model.predict(validation_images)\n",
    "y_pred = np.argmax(Y_pred, axis=1)\n",
    "\n",
    "\n",
    "print(classification_report(validation_classes, y_pred,\n",
    "                            target_names = ['CHIN', 'MOUTH_CHIN', 'NOSE_MOUTH', 'CORRECT', 'MASKOFF']))\n",
    "\n",
    "cfs_mt = confusion_matrix(validation_classes, y_pred)\n",
    "classes = {'CHIN': 0, 'MOUTH_CHIN': 1, 'NOSE_MOUTH': 2, 'CORRECT': 3, 'MASKOFF': 4}\n",
    "plot_confusion_matrix(cfs_mt, classes_map = classes)"
   ]
  },
  {
   "cell_type": "markdown",
   "metadata": {},
   "source": [
    "## Test Set"
   ]
  },
  {
   "cell_type": "markdown",
   "metadata": {},
   "source": [
    "### All Mask Off"
   ]
  },
  {
   "cell_type": "markdown",
   "metadata": {},
   "source": [
    "This was done as a \"sanity check\" to see whether the model mistook unmasked faces as any other classes."
   ]
  },
  {
   "cell_type": "code",
   "execution_count": 21,
   "metadata": {},
   "outputs": [],
   "source": [
    "IMG_DIR_sanity_Check = '/Users/nguyen_l5/Downloads/testing'\n",
    "dataset_sanity_Check = []\n",
    "for filename in os.listdir(IMG_DIR_sanity_Check):\n",
    "    dataset_sanity_Check.append((filename, 'maskoff'))"
   ]
  },
  {
   "cell_type": "code",
   "execution_count": 22,
   "metadata": {},
   "outputs": [],
   "source": [
    "sanity_Check_df = pd.DataFrame(dataset_sanity_Check, columns = ['filename', 'category'])"
   ]
  },
  {
   "cell_type": "code",
   "execution_count": 23,
   "metadata": {},
   "outputs": [
    {
     "data": {
      "text/html": [
       "<div>\n",
       "<style scoped>\n",
       "    .dataframe tbody tr th:only-of-type {\n",
       "        vertical-align: middle;\n",
       "    }\n",
       "\n",
       "    .dataframe tbody tr th {\n",
       "        vertical-align: top;\n",
       "    }\n",
       "\n",
       "    .dataframe thead th {\n",
       "        text-align: right;\n",
       "    }\n",
       "</style>\n",
       "<table border=\"1\" class=\"dataframe\">\n",
       "  <thead>\n",
       "    <tr style=\"text-align: right;\">\n",
       "      <th></th>\n",
       "      <th>filename</th>\n",
       "      <th>category</th>\n",
       "    </tr>\n",
       "  </thead>\n",
       "  <tbody>\n",
       "    <tr>\n",
       "      <th>0</th>\n",
       "      <td>823.jpg</td>\n",
       "      <td>maskoff</td>\n",
       "    </tr>\n",
       "    <tr>\n",
       "      <th>1</th>\n",
       "      <td>189.jpg</td>\n",
       "      <td>maskoff</td>\n",
       "    </tr>\n",
       "    <tr>\n",
       "      <th>2</th>\n",
       "      <td>837.jpg</td>\n",
       "      <td>maskoff</td>\n",
       "    </tr>\n",
       "    <tr>\n",
       "      <th>3</th>\n",
       "      <td>638.jpg</td>\n",
       "      <td>maskoff</td>\n",
       "    </tr>\n",
       "    <tr>\n",
       "      <th>4</th>\n",
       "      <td>604.jpg</td>\n",
       "      <td>maskoff</td>\n",
       "    </tr>\n",
       "  </tbody>\n",
       "</table>\n",
       "</div>"
      ],
      "text/plain": [
       "  filename category\n",
       "0  823.jpg  maskoff\n",
       "1  189.jpg  maskoff\n",
       "2  837.jpg  maskoff\n",
       "3  638.jpg  maskoff\n",
       "4  604.jpg  maskoff"
      ]
     },
     "execution_count": 23,
     "metadata": {},
     "output_type": "execute_result"
    }
   ],
   "source": [
    "sanity_Check_df.head()"
   ]
  },
  {
   "cell_type": "code",
   "execution_count": 18,
   "metadata": {},
   "outputs": [],
   "source": [
    "from keras.preprocessing import image\n",
    "pred_dir = '/Users/nguyen_l5/Downloads/testing'\n",
    "pred_lst = []\n",
    "for file in os.listdir(pred_dir):\n",
    "    #print(file)\n",
    "    filename = '/Users/nguyen_l5/Downloads/testing/' + file\n",
    "    img = image.load_img(filename, target_size=(300, 300), color_mode = \"grayscale\")\n",
    "    img_tensor = image.img_to_array(img)\n",
    "    img_tensor = np.expand_dims(img_tensor, axis=0)\n",
    "    img_tensor /= 255.\n",
    "    #img_tensor = np.reshape(img_tensor, (1, 300, 300, 1))\n",
    "    pred = np.argmax(new_model.predict(img_tensor))\n",
    "    pred_lst.append(pred)"
   ]
  },
  {
   "cell_type": "code",
   "execution_count": 19,
   "metadata": {},
   "outputs": [],
   "source": [
    "test_classes = np.array([4] * 738)\n",
    "pred_array = np.array(pred_lst)"
   ]
  },
  {
   "cell_type": "code",
   "execution_count": 20,
   "metadata": {},
   "outputs": [
    {
     "name": "stdout",
     "output_type": "stream",
     "text": [
      "              precision    recall  f1-score   support\n",
      "\n",
      "        CHIN       0.00      0.00      0.00         0\n",
      "  MOUTH_CHIN       0.00      0.00      0.00         0\n",
      "  NOSE_MOUTH       0.00      0.00      0.00         0\n",
      "     CORRECT       0.00      0.00      0.00         0\n",
      "     MASKOFF       1.00      0.98      0.99       738\n",
      "\n",
      "    accuracy                           0.98       738\n",
      "   macro avg       0.20      0.20      0.20       738\n",
      "weighted avg       1.00      0.98      0.99       738\n",
      "\n"
     ]
    },
    {
     "name": "stderr",
     "output_type": "stream",
     "text": [
      "/Users/nguyen_l5/opt/anaconda3/envs/myenv/lib/python3.7/site-packages/sklearn/metrics/_classification.py:1248: UndefinedMetricWarning: Recall and F-score are ill-defined and being set to 0.0 in labels with no true samples. Use `zero_division` parameter to control this behavior.\n",
      "  _warn_prf(average, modifier, msg_start, len(result))\n",
      "/Users/nguyen_l5/opt/anaconda3/envs/myenv/lib/python3.7/site-packages/sklearn/metrics/_classification.py:1248: UndefinedMetricWarning: Recall and F-score are ill-defined and being set to 0.0 in labels with no true samples. Use `zero_division` parameter to control this behavior.\n",
      "  _warn_prf(average, modifier, msg_start, len(result))\n",
      "/Users/nguyen_l5/opt/anaconda3/envs/myenv/lib/python3.7/site-packages/sklearn/metrics/_classification.py:1248: UndefinedMetricWarning: Recall and F-score are ill-defined and being set to 0.0 in labels with no true samples. Use `zero_division` parameter to control this behavior.\n",
      "  _warn_prf(average, modifier, msg_start, len(result))\n"
     ]
    }
   ],
   "source": [
    "print(classification_report(test_classes, pred_array,\n",
    "                            target_names = ['CHIN', 'MOUTH_CHIN', 'NOSE_MOUTH', 'CORRECT', 'MASKOFF']))"
   ]
  },
  {
   "cell_type": "code",
   "execution_count": 46,
   "metadata": {},
   "outputs": [
    {
     "data": {
      "image/png": "[encoded data removed]",
      "text/plain": [
       "<Figure size 432x288 with 2 Axes>"
      ]
     },
     "metadata": {
      "needs_background": "light"
     },
     "output_type": "display_data"
    }
   ],
   "source": [
    "cfs_mt = confusion_matrix(test_classes, pred_array)\n",
    "classes = {'CHIN': 0, 'MOUTH_CHIN': 1, 'NOSE_MOUTH': 2, 'CORRECT': 3, 'MASKOFF': 4}\n",
    "plot_confusion_matrix(cfs_mt, classes_map = classes)"
   ]
  },
  {
   "cell_type": "markdown",
   "metadata": {},
   "source": [
    "### Using Original Test Set"
   ]
  },
  {
   "cell_type": "markdown",
   "metadata": {},
   "source": [
    "The test set used in this section is one accumulated using the train/validate/test principle."
   ]
  },
  {
   "cell_type": "code",
   "execution_count": 42,
   "metadata": {},
   "outputs": [],
   "source": [
    "IMG_DIR_test = '/Users/nguyen_l5/Desktop/testing_data'"
   ]
  },
  {
   "cell_type": "code",
   "execution_count": null,
   "metadata": {},
   "outputs": [],
   "source": [
    "test_set = []\n",
    "for fold in os.listdir(IMG_DIR_test):\n",
    "    if fold == 'incorrect':\n",
    "        for filename in os.listdir(f'{IMG_DIR_test}/{fold}'):\n",
    "            test_set.append((f'{fold}/{filename}', filename[11:].split('.')[0]))\n",
    "    elif fold == 'maskoff':\n",
    "        for filename in os.listdir(f'{IMG_DIR_test}/{fold}'):\n",
    "            test_set.append((f'{fold}/{filename}', fold))\n",
    "    else:\n",
    "        for filename in os.listdir(f'{IMG_DIR_test}/{fold}'):\n",
    "            test_set.append((f'{fold}/{filename}', fold))"
   ]
  },
  {
   "cell_type": "code",
   "execution_count": 44,
   "metadata": {},
   "outputs": [],
   "source": [
    "test_set_df = pd.DataFrame(test_set, columns = ['filename', 'category'])"
   ]
  },
  {
   "cell_type": "code",
   "execution_count": 41,
   "metadata": {},
   "outputs": [
    {
     "data": {
      "text/plain": [
       "maskoff       181\n",
       "correct       160\n",
       "Nose_Mouth    160\n",
       "Mouth_Chin    160\n",
       "Chin          160\n",
       "Name: category, dtype: int64"
      ]
     },
     "execution_count": 41,
     "metadata": {},
     "output_type": "execute_result"
    }
   ],
   "source": [
    "test_set_df['category'].value_counts()"
   ]
  },
  {
   "cell_type": "code",
   "execution_count": 37,
   "metadata": {},
   "outputs": [],
   "source": [
    "from keras.preprocessing import image\n",
    "pred_dir = '/Users/nguyen_l5/Desktop/testing_data'\n",
    "pred_lst = []\n",
    "for fold in os.listdir(pred_dir):\n",
    "    for file in os.listdir(f'{pred_dir}/{fold}'):\n",
    "    #print(file)\n",
    "        filename = '/Users/nguyen_l5/Desktop/testing_data/' + fold + '/' + file\n",
    "        img = image.load_img(filename, target_size=(300, 300), color_mode = \"grayscale\")\n",
    "        img_tensor = image.img_to_array(img)\n",
    "        img_tensor = np.expand_dims(img_tensor, axis=0)\n",
    "        img_tensor /= 255.\n",
    "    #img_tensor = np.reshape(img_tensor, (1, 300, 300, 1))\n",
    "        pred = np.argmax(new_model.predict(img_tensor))\n",
    "        pred_lst.append(pred)"
   ]
  },
  {
   "cell_type": "code",
   "execution_count": 42,
   "metadata": {},
   "outputs": [],
   "source": [
    "test_classes_lst = [] \n",
    "for i in range(len(test_set_df['category'])):\n",
    "    if test_set_df['category'][i] == 'correct':\n",
    "        test_classes_lst.append(3)\n",
    "    elif test_set_df['category'][i] == 'maskoff':\n",
    "        test_classes_lst.append(4)\n",
    "    elif test_set_df['category'][i] == 'Nose_Mouth':\n",
    "        test_classes_lst.append(2)\n",
    "    elif test_set_df['category'][i] == 'Mouth_Chin':\n",
    "        test_classes_lst.append(1)\n",
    "    else:\n",
    "        test_classes_lst.append(0)"
   ]
  },
  {
   "cell_type": "code",
   "execution_count": 44,
   "metadata": {},
   "outputs": [],
   "source": [
    "test_classes = np.array(test_classes_lst)\n",
    "pred_array = np.array(pred_lst)"
   ]
  },
  {
   "cell_type": "code",
   "execution_count": 45,
   "metadata": {},
   "outputs": [
    {
     "name": "stdout",
     "output_type": "stream",
     "text": [
      "              precision    recall  f1-score   support\n",
      "\n",
      "        CHIN       0.96      1.00      0.98       160\n",
      "  MOUTH_CHIN       0.99      0.97      0.98       160\n",
      "  NOSE_MOUTH       0.96      0.97      0.97       160\n",
      "     CORRECT       0.99      0.96      0.98       160\n",
      "     MASKOFF       1.00      1.00      1.00       181\n",
      "\n",
      "    accuracy                           0.98       821\n",
      "   macro avg       0.98      0.98      0.98       821\n",
      "weighted avg       0.98      0.98      0.98       821\n",
      "\n"
     ]
    }
   ],
   "source": [
    "print(classification_report(test_classes, pred_array,\n",
    "                            target_names = ['CHIN', 'MOUTH_CHIN', 'NOSE_MOUTH', 'CORRECT', 'MASKOFF']))"
   ]
  },
  {
   "cell_type": "code",
   "execution_count": 46,
   "metadata": {},
   "outputs": [
    {
     "data": {
      "image/png": "[encoded data removed]",
      "text/plain": [
       "<Figure size 432x288 with 2 Axes>"
      ]
     },
     "metadata": {
      "needs_background": "light"
     },
     "output_type": "display_data"
    }
   ],
   "source": [
    "cfs_mt = confusion_matrix(test_classes, pred_array)\n",
    "classes = {'CHIN': 0, 'MOUTH_CHIN': 1, 'NOSE_MOUTH': 2, 'CORRECT': 3, 'MASKOFF': 4}\n",
    "plot_confusion_matrix(cfs_mt, classes_map = classes)"
   ]
  },
  {
   "cell_type": "markdown",
   "metadata": {},
   "source": [
    "## External Test Set"
   ]
  },
  {
   "cell_type": "markdown",
   "metadata": {},
   "source": [
    "The external test set was manually collected and labeled and acted as a way to gauge the model's generalizability."
   ]
  },
  {
   "cell_type": "code",
   "execution_count": 90,
   "metadata": {},
   "outputs": [],
   "source": [
    "IMG_DIR_test_external = '/Users/linh/Desktop/external_test_set'"
   ]
  },
  {
   "cell_type": "code",
   "execution_count": 91,
   "metadata": {},
   "outputs": [],
   "source": [
    "external_test_set = []\n",
    "for fold in os.listdir(IMG_DIR_test_external):\n",
    "    for filename in os.listdir(f'{IMG_DIR_test_external}/{fold}'):\n",
    "        external_test_set.append((f'{fold}/{filename}', fold))"
   ]
  },
  {
   "cell_type": "code",
   "execution_count": 92,
   "metadata": {},
   "outputs": [],
   "source": [
    "external_test_set_df = pd.DataFrame(external_test_set, columns = ['filename', 'category'])"
   ]
  },
  {
   "cell_type": "code",
   "execution_count": 93,
   "metadata": {},
   "outputs": [
    {
     "data": {
      "text/html": [
       "<div>\n",
       "<style scoped>\n",
       "    .dataframe tbody tr th:only-of-type {\n",
       "        vertical-align: middle;\n",
       "    }\n",
       "\n",
       "    .dataframe tbody tr th {\n",
       "        vertical-align: top;\n",
       "    }\n",
       "\n",
       "    .dataframe thead th {\n",
       "        text-align: right;\n",
       "    }\n",
       "</style>\n",
       "<table border=\"1\" class=\"dataframe\">\n",
       "  <thead>\n",
       "    <tr style=\"text-align: right;\">\n",
       "      <th></th>\n",
       "      <th>filename</th>\n",
       "      <th>category</th>\n",
       "    </tr>\n",
       "  </thead>\n",
       "  <tbody>\n",
       "    <tr>\n",
       "      <th>0</th>\n",
       "      <td>correct/1591 2.jpg</td>\n",
       "      <td>correct</td>\n",
       "    </tr>\n",
       "    <tr>\n",
       "      <th>1</th>\n",
       "      <td>correct/2099.jpg</td>\n",
       "      <td>correct</td>\n",
       "    </tr>\n",
       "    <tr>\n",
       "      <th>2</th>\n",
       "      <td>correct/1591.jpg</td>\n",
       "      <td>correct</td>\n",
       "    </tr>\n",
       "    <tr>\n",
       "      <th>3</th>\n",
       "      <td>correct/four-people-wearing-masks-58 copy 3.jpeg</td>\n",
       "      <td>correct</td>\n",
       "    </tr>\n",
       "    <tr>\n",
       "      <th>4</th>\n",
       "      <td>correct/photo-1586163958271-4d2cc29feff8.jpeg</td>\n",
       "      <td>correct</td>\n",
       "    </tr>\n",
       "  </tbody>\n",
       "</table>\n",
       "</div>"
      ],
      "text/plain": [
       "                                           filename category\n",
       "0                                correct/1591 2.jpg  correct\n",
       "1                                  correct/2099.jpg  correct\n",
       "2                                  correct/1591.jpg  correct\n",
       "3  correct/four-people-wearing-masks-58 copy 3.jpeg  correct\n",
       "4     correct/photo-1586163958271-4d2cc29feff8.jpeg  correct"
      ]
     },
     "execution_count": 93,
     "metadata": {},
     "output_type": "execute_result"
    }
   ],
   "source": [
    "external_test_set_df.head()"
   ]
  },
  {
   "cell_type": "code",
   "execution_count": 94,
   "metadata": {},
   "outputs": [
    {
     "data": {
      "text/plain": [
       "correct       10\n",
       "Nose_Mouth    10\n",
       "Mouth_Chin    10\n",
       "maskoff       10\n",
       "Chin          10\n",
       "Name: category, dtype: int64"
      ]
     },
     "execution_count": 94,
     "metadata": {},
     "output_type": "execute_result"
    }
   ],
   "source": [
    "external_test_set_df['category'].value_counts()"
   ]
  },
  {
   "cell_type": "code",
   "execution_count": 95,
   "metadata": {},
   "outputs": [],
   "source": [
    "from keras.preprocessing import image\n",
    "pred_dir = '/Users/linh/Desktop/external_test_set'\n",
    "pred_lst = []\n",
    "for fold in os.listdir(pred_dir):\n",
    "    for file in os.listdir(f'{pred_dir}/{fold}'):\n",
    "    #print(file)\n",
    "        filename = '/Users/linh/Desktop/external_test_set/' + fold + '/' + file\n",
    "        img = image.load_img(filename, target_size=(300, 300), color_mode = \"grayscale\")\n",
    "        img_tensor = image.img_to_array(img)\n",
    "        img_tensor = np.expand_dims(img_tensor, axis=0)\n",
    "        img_tensor /= 255.\n",
    "    #img_tensor = np.reshape(img_tensor, (1, 300, 300, 1))\n",
    "        pred = np.argmax(new_model.predict(img_tensor))\n",
    "        pred_lst.append(pred)"
   ]
  },
  {
   "cell_type": "code",
   "execution_count": 96,
   "metadata": {},
   "outputs": [],
   "source": [
    "external_test_classes_lst = [] \n",
    "for i in range(len(external_test_set_df['category'])):\n",
    "    if external_test_set_df['category'][i] == 'correct':\n",
    "        external_test_classes_lst.append(3)\n",
    "    elif external_test_set_df['category'][i] == 'maskoff':\n",
    "        external_test_classes_lst.append(4)\n",
    "    elif external_test_set_df['category'][i] == 'Nose_Mouth':\n",
    "        external_test_classes_lst.append(2)\n",
    "    elif external_test_set_df['category'][i] == 'Mouth_Chin':\n",
    "        external_test_classes_lst.append(1)\n",
    "    else:\n",
    "        external_test_classes_lst.append(0)"
   ]
  },
  {
   "cell_type": "code",
   "execution_count": 97,
   "metadata": {},
   "outputs": [],
   "source": [
    "test_classes = np.array(external_test_classes_lst)\n",
    "pred_array = np.array(pred_lst)"
   ]
  },
  {
   "cell_type": "code",
   "execution_count": 98,
   "metadata": {},
   "outputs": [
    {
     "name": "stdout",
     "output_type": "stream",
     "text": [
      "              precision    recall  f1-score   support\n",
      "\n",
      "        CHIN       0.78      0.70      0.74        10\n",
      "  MOUTH_CHIN       0.56      0.50      0.53        10\n",
      "  NOSE_MOUTH       0.80      0.40      0.53        10\n",
      "     CORRECT       0.44      0.70      0.54        10\n",
      "     MASKOFF       0.73      0.80      0.76        10\n",
      "\n",
      "    accuracy                           0.62        50\n",
      "   macro avg       0.66      0.62      0.62        50\n",
      "weighted avg       0.66      0.62      0.62        50\n",
      "\n"
     ]
    }
   ],
   "source": [
    "print(classification_report(test_classes, pred_array,\n",
    "                            target_names = ['CHIN', 'MOUTH_CHIN', 'NOSE_MOUTH', 'CORRECT', 'MASKOFF']))"
   ]
  },
  {
   "cell_type": "code",
   "execution_count": 99,
   "metadata": {},
   "outputs": [
    {
     "data": {
      "image/png": "[encoded data removed]",
      "text/plain": [
       "<Figure size 432x288 with 2 Axes>"
      ]
     },
     "metadata": {
      "needs_background": "light"
     },
     "output_type": "display_data"
    }
   ],
   "source": [
    "cfs_mt = confusion_matrix(test_classes, pred_array)\n",
    "classes = {'CHIN': 0, 'MOUTH_CHIN': 1, 'NOSE_MOUTH': 2, 'CORRECT': 3, 'MASKOFF': 4}\n",
    "plot_confusion_matrix(cfs_mt, classes_map = classes)"
   ]
  },
  {
   "cell_type": "markdown",
   "metadata": {},
   "source": [
    "## Real-time Detection Using OpenCV"
   ]
  },
  {
   "cell_type": "code",
   "execution_count": null,
   "metadata": {},
   "outputs": [
    {
     "name": "stderr",
     "output_type": "stream",
     "text": [
      "2021-12-10 14:02:21.008851: I tensorflow/core/platform/cpu_feature_guard.cc:151] This TensorFlow binary is optimized with oneAPI Deep Neural Network Library (oneDNN) to use the following CPU instructions in performance-critical operations:  AVX2 FMA\n",
      "To enable them in other operations, rebuild TensorFlow with the appropriate compiler flags.\n"
     ]
    }
   ],
   "source": [
    "config = ConfigProto()\n",
    "session = InteractiveSession(config=config)\n",
    "\n",
    "\n",
    "keras_model = tf.keras.models.load_model('/Users/linh/Downloads/model_weights_changingDataGen_2')\n",
    "#keras_model = load_model('model.h5')\n",
    "classifier = cv2.CascadeClassifier(cv2.data.haarcascades + 'haarcascade_frontalface_alt2.xml')\n",
    "cam = cv2.VideoCapture(0) \n",
    "\n",
    "\n",
    "\n",
    "label = {\n",
    "    0: {\"name\": \"Mask is not covering nose and mouth\", \"color\": (51, 153, 255), \"id\": 0},\n",
    "    1: {\"name\": \"Mash is not covering nose\", \"color\": (255, 255, 0), \"id\": 1},\n",
    "    2: {\"name\": \"Mask is not covering chin\", \"color\": (255, 153, 255), \"id\": 2},\n",
    "    3: {\"name\": \"Mask is worn correctly\", \"color\": (0, 102, 51), \"id\": 3},\n",
    "    4: {\"name\": \"No mask\", \"color\": (0,0,255), \"id\": 4},\n",
    "}\n",
    "\n",
    "\n",
    "while True:\n",
    "    status, frame = cam.read()\n",
    "\n",
    "    if not status:\n",
    "        break\n",
    "\n",
    "    if cv2.waitKey(1) & 0xff == ord('q'):\n",
    "        break\n",
    "    \n",
    "    gray = cv2.cvtColor(frame, cv2.COLOR_BGR2GRAY)\n",
    "\n",
    "    faces = classifier.detectMultiScale(gray)\n",
    "\n",
    "    for x,y,w,h in faces:\n",
    "        color = (0,0,0)\n",
    "        gray_face = gray[y:y+h+50, x:x+w+50]\n",
    "\n",
    "        if gray_face.shape[0] >= 200 and gray_face.shape[1] >= 200:\n",
    "\n",
    "            gray_face = cv2.resize(gray_face, (300, 300))\n",
    "            gray_face = gray_face / 255\n",
    "            gray_face = np.expand_dims(gray_face, axis=0)\n",
    "            gray_face = gray_face.reshape((1, 300, 300, 1))\n",
    "            pred = np.argmax(keras_model.predict(gray_face))\n",
    "            classification = label[pred][\"name\"]\n",
    "            color = label[pred][\"color\"]\n",
    "\n",
    "            cv2.rectangle(frame, (x,y), (x+w, y+h), color, label[pred][\"id\"])\n",
    "\n",
    "            cv2.putText(frame, classification, (x, y + 20), cv2.FONT_HERSHEY_SIMPLEX, 0.5, color, 2, cv2.LINE_AA)\n",
    "            cv2.putText(frame, f\"Number of detected faces: {len(faces)}\",(20,20), cv2.FONT_HERSHEY_SIMPLEX, 0.5, (255,0,0), 2, cv2.LINE_AA)\n",
    "\n",
    "    \n",
    "    cv2.imshow(\"Cam\", frame)\n",
    "    \n",
    "    #Press Esc to stop the camera\n",
    "    key = cv2.waitKey(1) & 0xFF\n",
    "    if key == 27:\n",
    "        break"
   ]
  },
  {
   "cell_type": "code",
   "execution_count": null,
   "metadata": {},
   "outputs": [],
   "source": []
  },
  {
   "cell_type": "code",
   "execution_count": null,
   "metadata": {},
   "outputs": [],
   "source": []
  }
 ],
 "metadata": {
  "colab": {
   "collapsed_sections": [
    "0Nck1YxQFw0p",
    "_2B_jAsHojLv",
    "MxfOi1h12uWp"
   ],
   "name": "correctly/incorrectly worn face mask detection (cleaned)",
   "provenance": []
  },
  "kernelspec": {
   "display_name": "Python 3 (ipykernel)",
   "language": "python",
   "name": "python3"
  },
  "language_info": {
   "codemirror_mode": {
    "name": "ipython",
    "version": 3
   },
   "file_extension": ".py",
   "mimetype": "text/x-python",
   "name": "python",
   "nbconvert_exporter": "python",
   "pygments_lexer": "ipython3",
   "version": "3.9.2"
  }
 },
 "nbformat": 4,
 "nbformat_minor": 1
}
