{
 "cells": [
  {
   "cell_type": "markdown",
   "metadata": {
    "id": "1xpUjIewq3tu"
   },
   "source": [
    "# Correctly/Incorrectly Worn Face Mask Detection"
   ]
  },
  {
   "cell_type": "markdown",
   "metadata": {
    "id": "RWE8awgKC8o0"
   },
   "source": [
    "## Setting up"
   ]
  },
  {
   "cell_type": "code",
   "execution_count": null,
   "metadata": {
    "colab": {
     "base_uri": "https://localhost:8080/"
    },
    "id": "6zicpNvAm1lk",
    "outputId": "231a64eb-4302-40ea-ac30-605be034e468"
   },
   "outputs": [],
   "source": [
    "from google.colab import drive\n",
    "drive.mount('/gdrive')\n",
    "%cd /gdrive/"
   ]
  },
  {
   "cell_type": "code",
   "execution_count": 44,
   "metadata": {},
   "outputs": [
    {
     "data": {
      "text/plain": [
       "'/Users/nguyen_l5/opt/anaconda3/envs/myenv/bin/python'"
      ]
     },
     "execution_count": 44,
     "metadata": {},
     "output_type": "execute_result"
    }
   ],
   "source": [
    "import sys\n",
    "sys.path\n",
    "sys.executable"
   ]
  },
  {
   "cell_type": "code",
   "execution_count": 45,
   "metadata": {},
   "outputs": [
    {
     "name": "stdout",
     "output_type": "stream",
     "text": [
      "/Users/nguyen_l5/opt/anaconda3/envs/myenv/bin/jupyter\r\n"
     ]
    }
   ],
   "source": [
    "!which jupyter"
   ]
  },
  {
   "cell_type": "code",
   "execution_count": 46,
   "metadata": {
    "id": "9iBBd-AIE7JA"
   },
   "outputs": [],
   "source": [
    "import numpy as np\n",
    "import pandas as pd \n",
    "import matplotlib.pyplot as plt\n",
    "\n",
    "from sklearn.model_selection import train_test_split\n",
    "\n",
    "import tensorflow as tf\n",
    "from tensorflow import keras\n",
    "from keras.preprocessing.image import ImageDataGenerator, load_img\n",
    "from tensorflow.keras.layers import Input\n",
    "from tensorflow.keras.utils import to_categorical\n",
    "from tensorflow.keras.layers import AveragePooling2D\n",
    "from keras.models import Model, Sequential\n",
    "from keras.layers import GlobalAveragePooling2D, Dropout, Dense, Activation, BatchNormalization, Conv2D, MaxPool2D, Flatten, MaxPooling2D\n",
    "from tensorflow.keras.optimizers import Adam\n",
    "import random\n",
    "import os"
   ]
  },
  {
   "cell_type": "code",
   "execution_count": 4,
   "metadata": {},
   "outputs": [
    {
     "name": "stdout",
     "output_type": "stream",
     "text": [
      "2.7.0\n"
     ]
    }
   ],
   "source": [
    "print(keras.__version__)"
   ]
  },
  {
   "cell_type": "code",
   "execution_count": 5,
   "metadata": {},
   "outputs": [
    {
     "data": {
      "text/plain": [
       "'tensorflow'"
      ]
     },
     "execution_count": 5,
     "metadata": {},
     "output_type": "execute_result"
    }
   ],
   "source": [
    "keras.backend.backend()"
   ]
  },
  {
   "cell_type": "code",
   "execution_count": 6,
   "metadata": {},
   "outputs": [
    {
     "name": "stdout",
     "output_type": "stream",
     "text": [
      "2.7.0\n"
     ]
    }
   ],
   "source": [
    "print(tf.__version__)"
   ]
  },
  {
   "cell_type": "code",
   "execution_count": 7,
   "metadata": {
    "id": "cWMjE50WC_v3"
   },
   "outputs": [],
   "source": [
    "IMAGE_SIZE = (300, 300) # resizing to reduce number of parameters\n",
    "IMG_DIR = '/Users/nguyen_l5/Downloads/data'\n",
    "BATCH_SIZE = 32 # small batch size to prevent Colab from crashing because of RAM shortage\n",
    "NUM_CLASSES = 4"
   ]
  },
  {
   "cell_type": "code",
   "execution_count": null,
   "metadata": {},
   "outputs": [],
   "source": []
  },
  {
   "cell_type": "markdown",
   "metadata": {
    "id": "rc-3ZAFZB_tX"
   },
   "source": [
    "## Create dataset"
   ]
  },
  {
   "cell_type": "code",
   "execution_count": 47,
   "metadata": {
    "colab": {
     "base_uri": "https://localhost:8080/",
     "height": 408
    },
    "id": "YTLuV07F22B-",
    "outputId": "ae5e4723-8623-439b-926f-a4336a874488"
   },
   "outputs": [
    {
     "name": "stderr",
     "output_type": "stream",
     "text": [
      "/Users/nguyen_l5/opt/anaconda3/envs/myenv/lib/python3.7/site-packages/ipykernel_launcher.py:12: SettingWithCopyWarning: \n",
      "A value is trying to be set on a copy of a slice from a DataFrame.\n",
      "Try using .loc[row_indexer,col_indexer] = value instead\n",
      "\n",
      "See the caveats in the documentation: https://pandas.pydata.org/pandas-docs/stable/user_guide/indexing.html#returning-a-view-versus-a-copy\n",
      "  if sys.path[0] == '':\n",
      "/Users/nguyen_l5/opt/anaconda3/envs/myenv/lib/python3.7/site-packages/ipykernel_launcher.py:13: SettingWithCopyWarning: \n",
      "A value is trying to be set on a copy of a slice from a DataFrame.\n",
      "Try using .loc[row_indexer,col_indexer] = value instead\n",
      "\n",
      "See the caveats in the documentation: https://pandas.pydata.org/pandas-docs/stable/user_guide/indexing.html#returning-a-view-versus-a-copy\n",
      "  del sys.path[0]\n"
     ]
    },
    {
     "data": {
      "text/html": [
       "<div>\n",
       "<style scoped>\n",
       "    .dataframe tbody tr th:only-of-type {\n",
       "        vertical-align: middle;\n",
       "    }\n",
       "\n",
       "    .dataframe tbody tr th {\n",
       "        vertical-align: top;\n",
       "    }\n",
       "\n",
       "    .dataframe thead th {\n",
       "        text-align: right;\n",
       "    }\n",
       "</style>\n",
       "<table border=\"1\" class=\"dataframe\">\n",
       "  <thead>\n",
       "    <tr style=\"text-align: right;\">\n",
       "      <th></th>\n",
       "      <th>filename</th>\n",
       "      <th>category</th>\n",
       "      <th>set</th>\n",
       "    </tr>\n",
       "  </thead>\n",
       "  <tbody>\n",
       "    <tr>\n",
       "      <th>655</th>\n",
       "      <td>correct/00118_Mask.jpg</td>\n",
       "      <td>correct</td>\n",
       "      <td>train</td>\n",
       "    </tr>\n",
       "    <tr>\n",
       "      <th>171</th>\n",
       "      <td>correct/00354_Mask.jpg</td>\n",
       "      <td>correct</td>\n",
       "      <td>train</td>\n",
       "    </tr>\n",
       "    <tr>\n",
       "      <th>223</th>\n",
       "      <td>correct/00703_Mask.jpg</td>\n",
       "      <td>correct</td>\n",
       "      <td>train</td>\n",
       "    </tr>\n",
       "    <tr>\n",
       "      <th>906</th>\n",
       "      <td>correct/00093_Mask.jpg</td>\n",
       "      <td>correct</td>\n",
       "      <td>train</td>\n",
       "    </tr>\n",
       "    <tr>\n",
       "      <th>950</th>\n",
       "      <td>incorrect/00844_Mask_Mouth_Chin.jpg</td>\n",
       "      <td>Mouth_Chin</td>\n",
       "      <td>train</td>\n",
       "    </tr>\n",
       "  </tbody>\n",
       "</table>\n",
       "</div>"
      ],
      "text/plain": [
       "                                filename    category    set\n",
       "655               correct/00118_Mask.jpg     correct  train\n",
       "171               correct/00354_Mask.jpg     correct  train\n",
       "223               correct/00703_Mask.jpg     correct  train\n",
       "906               correct/00093_Mask.jpg     correct  train\n",
       "950  incorrect/00844_Mask_Mouth_Chin.jpg  Mouth_Chin  train"
      ]
     },
     "execution_count": 47,
     "metadata": {},
     "output_type": "execute_result"
    }
   ],
   "source": [
    "dataset = []\n",
    "for fold in os.listdir(IMG_DIR):\n",
    "  if fold == 'incorrect':\n",
    "    for filename in os.listdir(f'{IMG_DIR}/{fold}'):\n",
    "      dataset.append((f'{fold}/{filename}', filename[11:].split('.')[0]))\n",
    "  else:\n",
    "    for filename in os.listdir(f'{IMG_DIR}/{fold}'):\n",
    "      dataset.append((f'{fold}/{filename}', fold))\n",
    "\n",
    "df = pd.DataFrame(dataset, columns = ['filename', 'category'])\n",
    "df_train, df_test = train_test_split(df, random_state = 123, stratify = df.category, test_size = 0.2)\n",
    "df_train['set'] = 'train'\n",
    "df_test['set'] = 'test'\n",
    "df = df_train.append(df_test)\n",
    "df.to_csv('/Users/nguyen_l5/Downloads/dataset.csv', index = False)\n",
    "df.head()"
   ]
  },
  {
   "cell_type": "code",
   "execution_count": 9,
   "metadata": {
    "colab": {
     "base_uri": "https://localhost:8080/"
    },
    "id": "_H38tu0J7QnM",
    "outputId": "83183cb6-c06e-4ffc-80c8-e175b0dc701f"
   },
   "outputs": [
    {
     "data": {
      "text/plain": [
       "correct       950\n",
       "Mouth_Chin    771\n",
       "Nose_Mouth     81\n",
       "Chin           76\n",
       "Name: category, dtype: int64"
      ]
     },
     "execution_count": 9,
     "metadata": {},
     "output_type": "execute_result"
    }
   ],
   "source": [
    "# distribution of data among classes\n",
    "df['category'].value_counts()"
   ]
  },
  {
   "cell_type": "code",
   "execution_count": 10,
   "metadata": {
    "id": "fjQDkpG6FL1N"
   },
   "outputs": [],
   "source": [
    "train_df = df[df['set'] == 'train'].reset_index(drop = True)\n",
    "test_df = df[df['set'] == 'test'].reset_index(drop = True)"
   ]
  },
  {
   "cell_type": "markdown",
   "metadata": {
    "id": "N1kdRwiVdoX3"
   },
   "source": [
    "## Traditional Neural Network"
   ]
  },
  {
   "cell_type": "code",
   "execution_count": 11,
   "metadata": {
    "colab": {
     "base_uri": "https://localhost:8080/"
    },
    "id": "4A-E-Yijdq6E",
    "outputId": "431d8b5e-ddcd-4d5c-95b6-8ada0ca904d4"
   },
   "outputs": [
    {
     "name": "stdout",
     "output_type": "stream",
     "text": [
      "Found 1502 validated image filenames belonging to 4 classes.\n",
      "Found 376 validated image filenames belonging to 4 classes.\n"
     ]
    }
   ],
   "source": [
    "# creating a data generator for both the train and test set that adds noise to data\n",
    "\n",
    "training_datagen = ImageDataGenerator(\n",
    "      rescale = 1./255,\n",
    "      rotation_range=5,\n",
    "      horizontal_flip=True)\n",
    "train_generator = training_datagen.flow_from_dataframe(\n",
    "\t   train_df,\n",
    "     IMG_DIR,\n",
    "     x_col = 'filename',\n",
    "     y_col = 'category',\n",
    "     color_mode = 'rgb', # traditional rgb channels\n",
    "     class_mode = 'categorical',\n",
    "     batch_size = BATCH_SIZE,\n",
    "     seed = 123, # setting a seed to ensure consistency\n",
    "     target_size = IMAGE_SIZE)\n",
    "\n",
    "validation_datagen = ImageDataGenerator(\n",
    "      rescale = 1./255)\n",
    "validation_generator = validation_datagen.flow_from_dataframe(\n",
    "\t  test_df,\n",
    "    IMG_DIR,\n",
    "    x_col = 'filename',\n",
    "    y_col = 'category',\n",
    "    color_mode = 'rgb', # traditional rgb channels\n",
    "    class_mode = 'categorical',\n",
    "    batch_size = BATCH_SIZE,\n",
    "\t  target_size = IMAGE_SIZE,\n",
    "    shuffle = False,\n",
    "    seed = 123 # setting a seed to ensure consistency\n",
    "    )"
   ]
  },
  {
   "cell_type": "code",
   "execution_count": 13,
   "metadata": {
    "colab": {
     "base_uri": "https://localhost:8080/"
    },
    "id": "yW40Am1bmt_L",
    "outputId": "3508a972-4250-40cf-a79f-957d7adbf312"
   },
   "outputs": [
    {
     "name": "stdout",
     "output_type": "stream",
     "text": [
      "Model: \"sequential\"\n",
      "_________________________________________________________________\n",
      " Layer (type)                Output Shape              Param #   \n",
      "=================================================================\n",
      " conv2d (Conv2D)             (None, 298, 298, 32)      896       \n",
      "                                                                 \n",
      " max_pooling2d (MaxPooling2D  (None, 149, 149, 32)     0         \n",
      " )                                                               \n",
      "                                                                 \n",
      " conv2d_1 (Conv2D)           (None, 145, 145, 64)      51264     \n",
      "                                                                 \n",
      " max_pooling2d_1 (MaxPooling  (None, 72, 72, 64)       0         \n",
      " 2D)                                                             \n",
      "                                                                 \n",
      " conv2d_2 (Conv2D)           (None, 68, 68, 128)       204928    \n",
      "                                                                 \n",
      " max_pooling2d_2 (MaxPooling  (None, 34, 34, 128)      0         \n",
      " 2D)                                                             \n",
      "                                                                 \n",
      " conv2d_3 (Conv2D)           (None, 32, 32, 128)       147584    \n",
      "                                                                 \n",
      " max_pooling2d_3 (MaxPooling  (None, 16, 16, 128)      0         \n",
      " 2D)                                                             \n",
      "                                                                 \n",
      " flatten (Flatten)           (None, 32768)             0         \n",
      "                                                                 \n",
      " dense (Dense)               (None, 512)               16777728  \n",
      "                                                                 \n",
      " dense_1 (Dense)             (None, 256)               131328    \n",
      "                                                                 \n",
      " dense_2 (Dense)             (None, 4)                 1028      \n",
      "                                                                 \n",
      "=================================================================\n",
      "Total params: 17,314,756\n",
      "Trainable params: 17,314,756\n",
      "Non-trainable params: 0\n",
      "_________________________________________________________________\n"
     ]
    },
    {
     "name": "stderr",
     "output_type": "stream",
     "text": [
      "2021-11-10 00:12:51.338907: I tensorflow/core/platform/cpu_feature_guard.cc:151] This TensorFlow binary is optimized with oneAPI Deep Neural Network Library (oneDNN) to use the following CPU instructions in performance-critical operations:  AVX2 AVX512F FMA\n",
      "To enable them in other operations, rebuild TensorFlow with the appropriate compiler flags.\n"
     ]
    }
   ],
   "source": [
    "# creating the network architecture\n",
    "\n",
    "model = tf.keras.models.Sequential([\n",
    "    tf.keras.layers.Conv2D(32, (3,3), activation = 'relu', input_shape=IMAGE_SIZE+(3,)),\n",
    "    tf.keras.layers.MaxPooling2D(2, 2),\n",
    "    tf.keras.layers.Conv2D(64, (5,5), activation = 'relu'),\n",
    "    tf.keras.layers.MaxPooling2D(2,2),\n",
    "    tf.keras.layers.Conv2D(128, (5,5), activation = 'relu'),\n",
    "    tf.keras.layers.MaxPooling2D(2,2),\n",
    "    tf.keras.layers.Conv2D(128, (3,3), activation = 'relu'),\n",
    "    tf.keras.layers.MaxPooling2D(2,2),\n",
    "    \n",
    "    tf.keras.layers.Flatten(),\n",
    "    \n",
    "    tf.keras.layers.Dense(512, activation='relu'),\n",
    "    tf.keras.layers.Dense(256, activation='relu'),\n",
    "    tf.keras.layers.Dense(4, activation='softmax') # 4 because there are 4 classes\n",
    "])\n",
    "model.summary()"
   ]
  },
  {
   "cell_type": "code",
   "execution_count": 14,
   "metadata": {
    "id": "VBoKxuUyYS2Z"
   },
   "outputs": [],
   "source": [
    "EPOCHS = 40\n",
    "INIT_LR = 1e-4 # for the Adam optimizer\n",
    "\n",
    "# compiling the model\n",
    "model.compile(\n",
    "    optimizer = keras.optimizers.Adam(\n",
    "        learning_rate = INIT_LR, \n",
    "        decay = INIT_LR / EPOCHS),\n",
    "    loss = keras.losses.categorical_crossentropy,\n",
    "    metrics = [\"accuracy\"],\n",
    ")"
   ]
  },
  {
   "cell_type": "code",
   "execution_count": 15,
   "metadata": {
    "colab": {
     "base_uri": "https://localhost:8080/"
    },
    "id": "oQneiUEnmzoa",
    "outputId": "652ff3ef-39c9-4334-91a0-ac60138cfded"
   },
   "outputs": [
    {
     "name": "stdout",
     "output_type": "stream",
     "text": [
      "Epoch 1/40\n",
      "WARNING:tensorflow:AutoGraph could not transform <function Model.make_train_function.<locals>.train_function at 0x7f80da0429e0> and will run it as-is.\n",
      "Please report this to the TensorFlow team. When filing the bug, set the verbosity to 10 (on Linux, `export AUTOGRAPH_VERBOSITY=10`) and attach the full output.\n",
      "Cause: 'arguments' object has no attribute 'posonlyargs'\n",
      "To silence this warning, decorate the function with @tf.autograph.experimental.do_not_convert\n",
      "WARNING: AutoGraph could not transform <function Model.make_train_function.<locals>.train_function at 0x7f80da0429e0> and will run it as-is.\n",
      "Please report this to the TensorFlow team. When filing the bug, set the verbosity to 10 (on Linux, `export AUTOGRAPH_VERBOSITY=10`) and attach the full output.\n",
      "Cause: 'arguments' object has no attribute 'posonlyargs'\n",
      "To silence this warning, decorate the function with @tf.autograph.experimental.do_not_convert\n",
      "17/47 [=========>....................] - ETA: 43s - loss: 1.0183 - accuracy: 0.5699"
     ]
    },
    {
     "ename": "KeyboardInterrupt",
     "evalue": "",
     "output_type": "error",
     "traceback": [
      "\u001b[0;31m---------------------------------------------------------------------------\u001b[0m",
      "\u001b[0;31mKeyboardInterrupt\u001b[0m                         Traceback (most recent call last)",
      "\u001b[0;32m/var/folders/rw/pxymp48w83d24hrnsbxpzdjw000gvn/T/ipykernel_32628/3046668767.py\u001b[0m in \u001b[0;36m<module>\u001b[0;34m\u001b[0m\n\u001b[1;32m      6\u001b[0m     \u001b[0mbatch_size\u001b[0m \u001b[0;34m=\u001b[0m \u001b[0mBATCH_SIZE\u001b[0m\u001b[0;34m,\u001b[0m\u001b[0;34m\u001b[0m\u001b[0;34m\u001b[0m\u001b[0m\n\u001b[1;32m      7\u001b[0m     \u001b[0mvalidation_data\u001b[0m \u001b[0;34m=\u001b[0m \u001b[0mvalidation_generator\u001b[0m\u001b[0;34m,\u001b[0m\u001b[0;34m\u001b[0m\u001b[0;34m\u001b[0m\u001b[0m\n\u001b[0;32m----> 8\u001b[0;31m     \u001b[0mvalidation_batch_size\u001b[0m \u001b[0;34m=\u001b[0m \u001b[0mBATCH_SIZE\u001b[0m\u001b[0;34m,\u001b[0m\u001b[0;34m\u001b[0m\u001b[0;34m\u001b[0m\u001b[0m\n\u001b[0m\u001b[1;32m      9\u001b[0m )\n",
      "\u001b[0;32m~/opt/anaconda3/envs/myenv/lib/python3.7/site-packages/keras/utils/traceback_utils.py\u001b[0m in \u001b[0;36merror_handler\u001b[0;34m(*args, **kwargs)\u001b[0m\n\u001b[1;32m     62\u001b[0m     \u001b[0mfiltered_tb\u001b[0m \u001b[0;34m=\u001b[0m \u001b[0;32mNone\u001b[0m\u001b[0;34m\u001b[0m\u001b[0;34m\u001b[0m\u001b[0m\n\u001b[1;32m     63\u001b[0m     \u001b[0;32mtry\u001b[0m\u001b[0;34m:\u001b[0m\u001b[0;34m\u001b[0m\u001b[0;34m\u001b[0m\u001b[0m\n\u001b[0;32m---> 64\u001b[0;31m       \u001b[0;32mreturn\u001b[0m \u001b[0mfn\u001b[0m\u001b[0;34m(\u001b[0m\u001b[0;34m*\u001b[0m\u001b[0margs\u001b[0m\u001b[0;34m,\u001b[0m \u001b[0;34m**\u001b[0m\u001b[0mkwargs\u001b[0m\u001b[0;34m)\u001b[0m\u001b[0;34m\u001b[0m\u001b[0;34m\u001b[0m\u001b[0m\n\u001b[0m\u001b[1;32m     65\u001b[0m     \u001b[0;32mexcept\u001b[0m \u001b[0mException\u001b[0m \u001b[0;32mas\u001b[0m \u001b[0me\u001b[0m\u001b[0;34m:\u001b[0m  \u001b[0;31m# pylint: disable=broad-except\u001b[0m\u001b[0;34m\u001b[0m\u001b[0;34m\u001b[0m\u001b[0m\n\u001b[1;32m     66\u001b[0m       \u001b[0mfiltered_tb\u001b[0m \u001b[0;34m=\u001b[0m \u001b[0m_process_traceback_frames\u001b[0m\u001b[0;34m(\u001b[0m\u001b[0me\u001b[0m\u001b[0;34m.\u001b[0m\u001b[0m__traceback__\u001b[0m\u001b[0;34m)\u001b[0m\u001b[0;34m\u001b[0m\u001b[0;34m\u001b[0m\u001b[0m\n",
      "\u001b[0;32m~/opt/anaconda3/envs/myenv/lib/python3.7/site-packages/keras/engine/training.py\u001b[0m in \u001b[0;36mfit\u001b[0;34m(self, x, y, batch_size, epochs, verbose, callbacks, validation_split, validation_data, shuffle, class_weight, sample_weight, initial_epoch, steps_per_epoch, validation_steps, validation_batch_size, validation_freq, max_queue_size, workers, use_multiprocessing)\u001b[0m\n\u001b[1;32m   1214\u001b[0m                 _r=1):\n\u001b[1;32m   1215\u001b[0m               \u001b[0mcallbacks\u001b[0m\u001b[0;34m.\u001b[0m\u001b[0mon_train_batch_begin\u001b[0m\u001b[0;34m(\u001b[0m\u001b[0mstep\u001b[0m\u001b[0;34m)\u001b[0m\u001b[0;34m\u001b[0m\u001b[0;34m\u001b[0m\u001b[0m\n\u001b[0;32m-> 1216\u001b[0;31m               \u001b[0mtmp_logs\u001b[0m \u001b[0;34m=\u001b[0m \u001b[0mself\u001b[0m\u001b[0;34m.\u001b[0m\u001b[0mtrain_function\u001b[0m\u001b[0;34m(\u001b[0m\u001b[0miterator\u001b[0m\u001b[0;34m)\u001b[0m\u001b[0;34m\u001b[0m\u001b[0;34m\u001b[0m\u001b[0m\n\u001b[0m\u001b[1;32m   1217\u001b[0m               \u001b[0;32mif\u001b[0m \u001b[0mdata_handler\u001b[0m\u001b[0;34m.\u001b[0m\u001b[0mshould_sync\u001b[0m\u001b[0;34m:\u001b[0m\u001b[0;34m\u001b[0m\u001b[0;34m\u001b[0m\u001b[0m\n\u001b[1;32m   1218\u001b[0m                 \u001b[0mcontext\u001b[0m\u001b[0;34m.\u001b[0m\u001b[0masync_wait\u001b[0m\u001b[0;34m(\u001b[0m\u001b[0;34m)\u001b[0m\u001b[0;34m\u001b[0m\u001b[0;34m\u001b[0m\u001b[0m\n",
      "\u001b[0;32m~/opt/anaconda3/envs/myenv/lib/python3.7/site-packages/tensorflow/python/util/traceback_utils.py\u001b[0m in \u001b[0;36merror_handler\u001b[0;34m(*args, **kwargs)\u001b[0m\n\u001b[1;32m    148\u001b[0m     \u001b[0mfiltered_tb\u001b[0m \u001b[0;34m=\u001b[0m \u001b[0;32mNone\u001b[0m\u001b[0;34m\u001b[0m\u001b[0;34m\u001b[0m\u001b[0m\n\u001b[1;32m    149\u001b[0m     \u001b[0;32mtry\u001b[0m\u001b[0;34m:\u001b[0m\u001b[0;34m\u001b[0m\u001b[0;34m\u001b[0m\u001b[0m\n\u001b[0;32m--> 150\u001b[0;31m       \u001b[0;32mreturn\u001b[0m \u001b[0mfn\u001b[0m\u001b[0;34m(\u001b[0m\u001b[0;34m*\u001b[0m\u001b[0margs\u001b[0m\u001b[0;34m,\u001b[0m \u001b[0;34m**\u001b[0m\u001b[0mkwargs\u001b[0m\u001b[0;34m)\u001b[0m\u001b[0;34m\u001b[0m\u001b[0;34m\u001b[0m\u001b[0m\n\u001b[0m\u001b[1;32m    151\u001b[0m     \u001b[0;32mexcept\u001b[0m \u001b[0mException\u001b[0m \u001b[0;32mas\u001b[0m \u001b[0me\u001b[0m\u001b[0;34m:\u001b[0m\u001b[0;34m\u001b[0m\u001b[0;34m\u001b[0m\u001b[0m\n\u001b[1;32m    152\u001b[0m       \u001b[0mfiltered_tb\u001b[0m \u001b[0;34m=\u001b[0m \u001b[0m_process_traceback_frames\u001b[0m\u001b[0;34m(\u001b[0m\u001b[0me\u001b[0m\u001b[0;34m.\u001b[0m\u001b[0m__traceback__\u001b[0m\u001b[0;34m)\u001b[0m\u001b[0;34m\u001b[0m\u001b[0;34m\u001b[0m\u001b[0m\n",
      "\u001b[0;32m~/opt/anaconda3/envs/myenv/lib/python3.7/site-packages/tensorflow/python/eager/def_function.py\u001b[0m in \u001b[0;36m__call__\u001b[0;34m(self, *args, **kwds)\u001b[0m\n\u001b[1;32m    908\u001b[0m \u001b[0;34m\u001b[0m\u001b[0m\n\u001b[1;32m    909\u001b[0m       \u001b[0;32mwith\u001b[0m \u001b[0mOptionalXlaContext\u001b[0m\u001b[0;34m(\u001b[0m\u001b[0mself\u001b[0m\u001b[0;34m.\u001b[0m\u001b[0m_jit_compile\u001b[0m\u001b[0;34m)\u001b[0m\u001b[0;34m:\u001b[0m\u001b[0;34m\u001b[0m\u001b[0;34m\u001b[0m\u001b[0m\n\u001b[0;32m--> 910\u001b[0;31m         \u001b[0mresult\u001b[0m \u001b[0;34m=\u001b[0m \u001b[0mself\u001b[0m\u001b[0;34m.\u001b[0m\u001b[0m_call\u001b[0m\u001b[0;34m(\u001b[0m\u001b[0;34m*\u001b[0m\u001b[0margs\u001b[0m\u001b[0;34m,\u001b[0m \u001b[0;34m**\u001b[0m\u001b[0mkwds\u001b[0m\u001b[0;34m)\u001b[0m\u001b[0;34m\u001b[0m\u001b[0;34m\u001b[0m\u001b[0m\n\u001b[0m\u001b[1;32m    911\u001b[0m \u001b[0;34m\u001b[0m\u001b[0m\n\u001b[1;32m    912\u001b[0m       \u001b[0mnew_tracing_count\u001b[0m \u001b[0;34m=\u001b[0m \u001b[0mself\u001b[0m\u001b[0;34m.\u001b[0m\u001b[0mexperimental_get_tracing_count\u001b[0m\u001b[0;34m(\u001b[0m\u001b[0;34m)\u001b[0m\u001b[0;34m\u001b[0m\u001b[0;34m\u001b[0m\u001b[0m\n",
      "\u001b[0;32m~/opt/anaconda3/envs/myenv/lib/python3.7/site-packages/tensorflow/python/eager/def_function.py\u001b[0m in \u001b[0;36m_call\u001b[0;34m(self, *args, **kwds)\u001b[0m\n\u001b[1;32m    940\u001b[0m       \u001b[0;31m# In this case we have created variables on the first call, so we run the\u001b[0m\u001b[0;34m\u001b[0m\u001b[0;34m\u001b[0m\u001b[0;34m\u001b[0m\u001b[0m\n\u001b[1;32m    941\u001b[0m       \u001b[0;31m# defunned version which is guaranteed to never create variables.\u001b[0m\u001b[0;34m\u001b[0m\u001b[0;34m\u001b[0m\u001b[0;34m\u001b[0m\u001b[0m\n\u001b[0;32m--> 942\u001b[0;31m       \u001b[0;32mreturn\u001b[0m \u001b[0mself\u001b[0m\u001b[0;34m.\u001b[0m\u001b[0m_stateless_fn\u001b[0m\u001b[0;34m(\u001b[0m\u001b[0;34m*\u001b[0m\u001b[0margs\u001b[0m\u001b[0;34m,\u001b[0m \u001b[0;34m**\u001b[0m\u001b[0mkwds\u001b[0m\u001b[0;34m)\u001b[0m  \u001b[0;31m# pylint: disable=not-callable\u001b[0m\u001b[0;34m\u001b[0m\u001b[0;34m\u001b[0m\u001b[0m\n\u001b[0m\u001b[1;32m    943\u001b[0m     \u001b[0;32melif\u001b[0m \u001b[0mself\u001b[0m\u001b[0;34m.\u001b[0m\u001b[0m_stateful_fn\u001b[0m \u001b[0;32mis\u001b[0m \u001b[0;32mnot\u001b[0m \u001b[0;32mNone\u001b[0m\u001b[0;34m:\u001b[0m\u001b[0;34m\u001b[0m\u001b[0;34m\u001b[0m\u001b[0m\n\u001b[1;32m    944\u001b[0m       \u001b[0;31m# Release the lock early so that multiple threads can perform the call\u001b[0m\u001b[0;34m\u001b[0m\u001b[0;34m\u001b[0m\u001b[0;34m\u001b[0m\u001b[0m\n",
      "\u001b[0;32m~/opt/anaconda3/envs/myenv/lib/python3.7/site-packages/tensorflow/python/eager/function.py\u001b[0m in \u001b[0;36m__call__\u001b[0;34m(self, *args, **kwargs)\u001b[0m\n\u001b[1;32m   3129\u001b[0m        filtered_flat_args) = self._maybe_define_function(args, kwargs)\n\u001b[1;32m   3130\u001b[0m     return graph_function._call_flat(\n\u001b[0;32m-> 3131\u001b[0;31m         filtered_flat_args, captured_inputs=graph_function.captured_inputs)  # pylint: disable=protected-access\n\u001b[0m\u001b[1;32m   3132\u001b[0m \u001b[0;34m\u001b[0m\u001b[0m\n\u001b[1;32m   3133\u001b[0m   \u001b[0;34m@\u001b[0m\u001b[0mproperty\u001b[0m\u001b[0;34m\u001b[0m\u001b[0;34m\u001b[0m\u001b[0m\n",
      "\u001b[0;32m~/opt/anaconda3/envs/myenv/lib/python3.7/site-packages/tensorflow/python/eager/function.py\u001b[0m in \u001b[0;36m_call_flat\u001b[0;34m(self, args, captured_inputs, cancellation_manager)\u001b[0m\n\u001b[1;32m   1958\u001b[0m       \u001b[0;31m# No tape is watching; skip to running the function.\u001b[0m\u001b[0;34m\u001b[0m\u001b[0;34m\u001b[0m\u001b[0;34m\u001b[0m\u001b[0m\n\u001b[1;32m   1959\u001b[0m       return self._build_call_outputs(self._inference_function.call(\n\u001b[0;32m-> 1960\u001b[0;31m           ctx, args, cancellation_manager=cancellation_manager))\n\u001b[0m\u001b[1;32m   1961\u001b[0m     forward_backward = self._select_forward_and_backward_functions(\n\u001b[1;32m   1962\u001b[0m         \u001b[0margs\u001b[0m\u001b[0;34m,\u001b[0m\u001b[0;34m\u001b[0m\u001b[0;34m\u001b[0m\u001b[0m\n",
      "\u001b[0;32m~/opt/anaconda3/envs/myenv/lib/python3.7/site-packages/tensorflow/python/eager/function.py\u001b[0m in \u001b[0;36mcall\u001b[0;34m(self, ctx, args, cancellation_manager)\u001b[0m\n\u001b[1;32m    601\u001b[0m               \u001b[0minputs\u001b[0m\u001b[0;34m=\u001b[0m\u001b[0margs\u001b[0m\u001b[0;34m,\u001b[0m\u001b[0;34m\u001b[0m\u001b[0;34m\u001b[0m\u001b[0m\n\u001b[1;32m    602\u001b[0m               \u001b[0mattrs\u001b[0m\u001b[0;34m=\u001b[0m\u001b[0mattrs\u001b[0m\u001b[0;34m,\u001b[0m\u001b[0;34m\u001b[0m\u001b[0;34m\u001b[0m\u001b[0m\n\u001b[0;32m--> 603\u001b[0;31m               ctx=ctx)\n\u001b[0m\u001b[1;32m    604\u001b[0m         \u001b[0;32melse\u001b[0m\u001b[0;34m:\u001b[0m\u001b[0;34m\u001b[0m\u001b[0;34m\u001b[0m\u001b[0m\n\u001b[1;32m    605\u001b[0m           outputs = execute.execute_with_cancellation(\n",
      "\u001b[0;32m~/opt/anaconda3/envs/myenv/lib/python3.7/site-packages/tensorflow/python/eager/execute.py\u001b[0m in \u001b[0;36mquick_execute\u001b[0;34m(op_name, num_outputs, inputs, attrs, ctx, name)\u001b[0m\n\u001b[1;32m     57\u001b[0m     \u001b[0mctx\u001b[0m\u001b[0;34m.\u001b[0m\u001b[0mensure_initialized\u001b[0m\u001b[0;34m(\u001b[0m\u001b[0;34m)\u001b[0m\u001b[0;34m\u001b[0m\u001b[0;34m\u001b[0m\u001b[0m\n\u001b[1;32m     58\u001b[0m     tensors = pywrap_tfe.TFE_Py_Execute(ctx._handle, device_name, op_name,\n\u001b[0;32m---> 59\u001b[0;31m                                         inputs, attrs, num_outputs)\n\u001b[0m\u001b[1;32m     60\u001b[0m   \u001b[0;32mexcept\u001b[0m \u001b[0mcore\u001b[0m\u001b[0;34m.\u001b[0m\u001b[0m_NotOkStatusException\u001b[0m \u001b[0;32mas\u001b[0m \u001b[0me\u001b[0m\u001b[0;34m:\u001b[0m\u001b[0;34m\u001b[0m\u001b[0;34m\u001b[0m\u001b[0m\n\u001b[1;32m     61\u001b[0m     \u001b[0;32mif\u001b[0m \u001b[0mname\u001b[0m \u001b[0;32mis\u001b[0m \u001b[0;32mnot\u001b[0m \u001b[0;32mNone\u001b[0m\u001b[0;34m:\u001b[0m\u001b[0;34m\u001b[0m\u001b[0;34m\u001b[0m\u001b[0m\n",
      "\u001b[0;31mKeyboardInterrupt\u001b[0m: "
     ]
    }
   ],
   "source": [
    "# fitting the model\n",
    "\n",
    "CNN = model.fit(\n",
    "    train_generator, \n",
    "    epochs = EPOCHS, \n",
    "    batch_size = BATCH_SIZE,\n",
    "    validation_data = validation_generator,\n",
    "    validation_batch_size = BATCH_SIZE,\n",
    ")"
   ]
  },
  {
   "cell_type": "code",
   "execution_count": null,
   "metadata": {
    "colab": {
     "base_uri": "https://localhost:8080/"
    },
    "id": "ZlvQtCh-JBWB",
    "outputId": "572e53d5-6bac-4a6f-e99a-4f7596e0e551"
   },
   "outputs": [],
   "source": [
    "# saving the model\n",
    "model.save('/gdrive/My Drive/Colab Notebooks/Mask Detection/model_weights_1020')"
   ]
  },
  {
   "cell_type": "markdown",
   "metadata": {
    "id": "zvncF893am5J"
   },
   "source": [
    "## Accuracy"
   ]
  },
  {
   "cell_type": "code",
   "execution_count": 48,
   "metadata": {},
   "outputs": [],
   "source": [
    "new_model = tf.keras.models.load_model('/Users/nguyen_l5/Downloads/model_weights_1020')"
   ]
  },
  {
   "cell_type": "code",
   "execution_count": 49,
   "metadata": {},
   "outputs": [
    {
     "name": "stdout",
     "output_type": "stream",
     "text": [
      "Model: \"sequential_2\"\n",
      "_________________________________________________________________\n",
      " Layer (type)                Output Shape              Param #   \n",
      "=================================================================\n",
      " conv2d_8 (Conv2D)           (None, 298, 298, 32)      896       \n",
      "                                                                 \n",
      " max_pooling2d_8 (MaxPooling  (None, 149, 149, 32)     0         \n",
      " 2D)                                                             \n",
      "                                                                 \n",
      " conv2d_9 (Conv2D)           (None, 145, 145, 64)      51264     \n",
      "                                                                 \n",
      " max_pooling2d_9 (MaxPooling  (None, 72, 72, 64)       0         \n",
      " 2D)                                                             \n",
      "                                                                 \n",
      " conv2d_10 (Conv2D)          (None, 68, 68, 128)       204928    \n",
      "                                                                 \n",
      " max_pooling2d_10 (MaxPoolin  (None, 34, 34, 128)      0         \n",
      " g2D)                                                            \n",
      "                                                                 \n",
      " conv2d_11 (Conv2D)          (None, 32, 32, 128)       147584    \n",
      "                                                                 \n",
      " max_pooling2d_11 (MaxPoolin  (None, 16, 16, 128)      0         \n",
      " g2D)                                                            \n",
      "                                                                 \n",
      " flatten_2 (Flatten)         (None, 32768)             0         \n",
      "                                                                 \n",
      " dense_6 (Dense)             (None, 512)               16777728  \n",
      "                                                                 \n",
      " dense_7 (Dense)             (None, 256)               131328    \n",
      "                                                                 \n",
      " dense_8 (Dense)             (None, 4)                 1028      \n",
      "                                                                 \n",
      "=================================================================\n",
      "Total params: 17,314,756\n",
      "Trainable params: 17,314,756\n",
      "Non-trainable params: 0\n",
      "_________________________________________________________________\n"
     ]
    }
   ],
   "source": [
    "new_model.summary()"
   ]
  },
  {
   "cell_type": "code",
   "execution_count": 17,
   "metadata": {},
   "outputs": [],
   "source": [
    "test_labels = test_df['category'].to_list()"
   ]
  },
  {
   "cell_type": "code",
   "execution_count": 18,
   "metadata": {},
   "outputs": [
    {
     "data": {
      "text/html": [
       "<div>\n",
       "<style scoped>\n",
       "    .dataframe tbody tr th:only-of-type {\n",
       "        vertical-align: middle;\n",
       "    }\n",
       "\n",
       "    .dataframe tbody tr th {\n",
       "        vertical-align: top;\n",
       "    }\n",
       "\n",
       "    .dataframe thead th {\n",
       "        text-align: right;\n",
       "    }\n",
       "</style>\n",
       "<table border=\"1\" class=\"dataframe\">\n",
       "  <thead>\n",
       "    <tr style=\"text-align: right;\">\n",
       "      <th></th>\n",
       "      <th>filename</th>\n",
       "      <th>category</th>\n",
       "      <th>set</th>\n",
       "    </tr>\n",
       "  </thead>\n",
       "  <tbody>\n",
       "    <tr>\n",
       "      <th>0</th>\n",
       "      <td>correct/00358_Mask.jpg</td>\n",
       "      <td>correct</td>\n",
       "      <td>test</td>\n",
       "    </tr>\n",
       "    <tr>\n",
       "      <th>1</th>\n",
       "      <td>correct/00754_Mask.jpg</td>\n",
       "      <td>correct</td>\n",
       "      <td>test</td>\n",
       "    </tr>\n",
       "    <tr>\n",
       "      <th>2</th>\n",
       "      <td>incorrect/00501_Mask_Mouth_Chin.jpg</td>\n",
       "      <td>Mouth_Chin</td>\n",
       "      <td>test</td>\n",
       "    </tr>\n",
       "    <tr>\n",
       "      <th>3</th>\n",
       "      <td>correct/00607_Mask.jpg</td>\n",
       "      <td>correct</td>\n",
       "      <td>test</td>\n",
       "    </tr>\n",
       "    <tr>\n",
       "      <th>4</th>\n",
       "      <td>incorrect/00861_Mask_Mouth_Chin.jpg</td>\n",
       "      <td>Mouth_Chin</td>\n",
       "      <td>test</td>\n",
       "    </tr>\n",
       "    <tr>\n",
       "      <th>...</th>\n",
       "      <td>...</td>\n",
       "      <td>...</td>\n",
       "      <td>...</td>\n",
       "    </tr>\n",
       "    <tr>\n",
       "      <th>371</th>\n",
       "      <td>correct/00138_Mask.jpg</td>\n",
       "      <td>correct</td>\n",
       "      <td>test</td>\n",
       "    </tr>\n",
       "    <tr>\n",
       "      <th>372</th>\n",
       "      <td>incorrect/00448_Mask_Chin.jpg</td>\n",
       "      <td>Chin</td>\n",
       "      <td>test</td>\n",
       "    </tr>\n",
       "    <tr>\n",
       "      <th>373</th>\n",
       "      <td>correct/00034_Mask.jpg</td>\n",
       "      <td>correct</td>\n",
       "      <td>test</td>\n",
       "    </tr>\n",
       "    <tr>\n",
       "      <th>374</th>\n",
       "      <td>correct/00217_Mask.jpg</td>\n",
       "      <td>correct</td>\n",
       "      <td>test</td>\n",
       "    </tr>\n",
       "    <tr>\n",
       "      <th>375</th>\n",
       "      <td>incorrect/00486_Mask_Nose_Mouth.jpg</td>\n",
       "      <td>Nose_Mouth</td>\n",
       "      <td>test</td>\n",
       "    </tr>\n",
       "  </tbody>\n",
       "</table>\n",
       "<p>376 rows × 3 columns</p>\n",
       "</div>"
      ],
      "text/plain": [
       "                                filename    category   set\n",
       "0                 correct/00358_Mask.jpg     correct  test\n",
       "1                 correct/00754_Mask.jpg     correct  test\n",
       "2    incorrect/00501_Mask_Mouth_Chin.jpg  Mouth_Chin  test\n",
       "3                 correct/00607_Mask.jpg     correct  test\n",
       "4    incorrect/00861_Mask_Mouth_Chin.jpg  Mouth_Chin  test\n",
       "..                                   ...         ...   ...\n",
       "371               correct/00138_Mask.jpg     correct  test\n",
       "372        incorrect/00448_Mask_Chin.jpg        Chin  test\n",
       "373               correct/00034_Mask.jpg     correct  test\n",
       "374               correct/00217_Mask.jpg     correct  test\n",
       "375  incorrect/00486_Mask_Nose_Mouth.jpg  Nose_Mouth  test\n",
       "\n",
       "[376 rows x 3 columns]"
      ]
     },
     "execution_count": 18,
     "metadata": {},
     "output_type": "execute_result"
    }
   ],
   "source": [
    "test_df"
   ]
  },
  {
   "cell_type": "code",
   "execution_count": 21,
   "metadata": {},
   "outputs": [],
   "source": [
    "validation_classes = []\n",
    "validation_images = []\n",
    "\n",
    "for i in range( -(-validation_generator.samples // validation_generator.batch_size)):\n",
    "   batch = validation_generator.next()\n",
    "   expected = np.argmax(batch[1], axis = 1) \n",
    "   validation_classes.extend(expected)\n",
    "   validation_images.extend(batch[0])"
   ]
  },
  {
   "cell_type": "code",
   "execution_count": 25,
   "metadata": {},
   "outputs": [
    {
     "data": {
      "text/plain": [
       "376"
      ]
     },
     "execution_count": 25,
     "metadata": {},
     "output_type": "execute_result"
    }
   ],
   "source": [
    "validation_generator.samples"
   ]
  },
  {
   "cell_type": "code",
   "execution_count": 28,
   "metadata": {},
   "outputs": [
    {
     "data": {
      "text/plain": [
       "(array([[[[0.18039216, 0.11764707, 0.05882353],\n",
       "          [0.20784315, 0.13333334, 0.07843138],\n",
       "          [0.21568629, 0.12941177, 0.07450981],\n",
       "          ...,\n",
       "          [0.03529412, 0.03921569, 0.01960784],\n",
       "          [0.03529412, 0.03137255, 0.01568628],\n",
       "          [0.04313726, 0.02745098, 0.01568628]],\n",
       " \n",
       "         [[0.20784315, 0.13333334, 0.07450981],\n",
       "          [0.22352943, 0.14901961, 0.09411766],\n",
       "          [0.20784315, 0.13333334, 0.07843138],\n",
       "          ...,\n",
       "          [0.03137255, 0.03529412, 0.01176471],\n",
       "          [0.03137255, 0.03529412, 0.01176471],\n",
       "          [0.03529412, 0.03137255, 0.01176471]],\n",
       " \n",
       "         [[0.22352943, 0.14117648, 0.07450981],\n",
       "          [0.21960786, 0.14509805, 0.08627451],\n",
       "          [0.20392159, 0.12941177, 0.07058824],\n",
       "          ...,\n",
       "          [0.04313726, 0.03921569, 0.01960784],\n",
       "          [0.04313726, 0.02745098, 0.01568628],\n",
       "          [0.04705883, 0.03529412, 0.01568628]],\n",
       " \n",
       "         ...,\n",
       " \n",
       "         [[0.5372549 , 0.6039216 , 0.6745098 ],\n",
       "          [0.54901963, 0.62352943, 0.6901961 ],\n",
       "          [0.5372549 , 0.61960787, 0.6862745 ],\n",
       "          ...,\n",
       "          [0.6117647 , 0.5019608 , 0.21568629],\n",
       "          [0.60784316, 0.5058824 , 0.21568629],\n",
       "          [0.6156863 , 0.5058824 , 0.21960786]],\n",
       " \n",
       "         [[0.5529412 , 0.627451  , 0.69411767],\n",
       "          [0.5372549 , 0.61960787, 0.6862745 ],\n",
       "          [0.5254902 , 0.60784316, 0.6745098 ],\n",
       "          ...,\n",
       "          [0.6       , 0.49803925, 0.20784315],\n",
       "          [0.59607846, 0.49411768, 0.20392159],\n",
       "          [0.6156863 , 0.5019608 , 0.227451  ]],\n",
       " \n",
       "         [[0.5294118 , 0.6117647 , 0.6784314 ],\n",
       "          [0.5254902 , 0.6156863 , 0.6862745 ],\n",
       "          [0.53333336, 0.62352943, 0.69411767],\n",
       "          ...,\n",
       "          [0.5882353 , 0.49411768, 0.20392159],\n",
       "          [0.6039216 , 0.49803925, 0.21960786],\n",
       "          [0.6156863 , 0.49411768, 0.23137257]]],\n",
       " \n",
       " \n",
       "        [[[0.15686275, 0.21960786, 0.30980393],\n",
       "          [0.3647059 , 0.47450984, 0.67058825],\n",
       "          [0.45098042, 0.6117647 , 0.81568635],\n",
       "          ...,\n",
       "          [0.7372549 , 0.83921576, 0.97647065],\n",
       "          [0.7490196 , 0.8352942 , 0.9960785 ],\n",
       "          [0.6313726 , 0.7019608 , 0.89019614]],\n",
       " \n",
       "         [[0.40784317, 0.49411768, 0.72156864],\n",
       "          [0.49803925, 0.6       , 0.8313726 ],\n",
       "          [0.49803925, 0.62352943, 0.854902  ],\n",
       "          ...,\n",
       "          [0.81568635, 0.909804  , 1.        ],\n",
       "          [0.7843138 , 0.8745099 , 0.9960785 ],\n",
       "          [0.6666667 , 0.7568628 , 0.9176471 ]],\n",
       " \n",
       "         [[0.56078434, 0.6784314 , 0.9294118 ],\n",
       "          [0.6117647 , 0.7176471 , 0.9333334 ],\n",
       "          [0.61960787, 0.7372549 , 0.9490197 ],\n",
       "          ...,\n",
       "          [0.8352942 , 0.92549026, 0.9960785 ],\n",
       "          [0.7843138 , 0.8862746 , 0.9921569 ],\n",
       "          [0.67058825, 0.7803922 , 0.93725497]],\n",
       " \n",
       "         ...,\n",
       " \n",
       "         [[0.9843138 , 1.        , 1.        ],\n",
       "          [0.9843138 , 1.        , 1.        ],\n",
       "          [0.9843138 , 1.        , 1.        ],\n",
       "          ...,\n",
       "          [0.9921569 , 1.        , 0.9960785 ],\n",
       "          [1.        , 1.        , 0.9921569 ],\n",
       "          [1.        , 0.9960785 , 1.        ]],\n",
       " \n",
       "         [[0.9843138 , 1.        , 1.        ],\n",
       "          [0.9843138 , 1.        , 1.        ],\n",
       "          [0.9843138 , 1.        , 1.        ],\n",
       "          ...,\n",
       "          [1.        , 1.        , 0.9921569 ],\n",
       "          [0.9960785 , 1.        , 1.        ],\n",
       "          [0.9960785 , 1.        , 1.        ]],\n",
       " \n",
       "         [[0.9843138 , 1.        , 1.        ],\n",
       "          [0.9843138 , 1.        , 1.        ],\n",
       "          [0.9843138 , 1.        , 1.        ],\n",
       "          ...,\n",
       "          [1.        , 1.        , 1.        ],\n",
       "          [0.9960785 , 1.        , 1.        ],\n",
       "          [1.        , 1.        , 0.9921569 ]]],\n",
       " \n",
       " \n",
       "        [[[0.70980394, 0.227451  , 0.20000002],\n",
       "          [0.69411767, 0.21176472, 0.19215688],\n",
       "          [0.7058824 , 0.227451  , 0.20784315],\n",
       "          ...,\n",
       "          [0.83921576, 0.81568635, 0.7686275 ],\n",
       "          [0.83921576, 0.8117648 , 0.7725491 ],\n",
       "          [0.83921576, 0.8117648 , 0.7725491 ]],\n",
       " \n",
       "         [[0.69411767, 0.21960786, 0.18823531],\n",
       "          [0.6862745 , 0.20784315, 0.18823531],\n",
       "          [0.69803923, 0.21176472, 0.20392159],\n",
       "          ...,\n",
       "          [0.8470589 , 0.8196079 , 0.7803922 ],\n",
       "          [0.8431373 , 0.81568635, 0.77647066],\n",
       "          [0.83921576, 0.8117648 , 0.7725491 ]],\n",
       " \n",
       "         [[0.68235296, 0.20392159, 0.18431373],\n",
       "          [0.69411767, 0.21568629, 0.19607845],\n",
       "          [0.6862745 , 0.20000002, 0.19215688],\n",
       "          ...,\n",
       "          [0.8352942 , 0.8078432 , 0.7686275 ],\n",
       "          [0.8431373 , 0.81568635, 0.77647066],\n",
       "          [0.8470589 , 0.8196079 , 0.7803922 ]],\n",
       " \n",
       "         ...,\n",
       " \n",
       "         [[0.41176474, 0.17254902, 0.20392159],\n",
       "          [0.4784314 , 0.21176472, 0.25490198],\n",
       "          [0.43137258, 0.20784315, 0.24313727],\n",
       "          ...,\n",
       "          [0.5372549 , 0.21568629, 0.27058825],\n",
       "          [0.7176471 , 0.39607847, 0.45098042],\n",
       "          [0.6       , 0.27058825, 0.33333334]],\n",
       " \n",
       "         [[0.4784314 , 0.2392157 , 0.26666668],\n",
       "          [0.4156863 , 0.18039216, 0.21960786],\n",
       "          [0.3372549 , 0.13725491, 0.16470589],\n",
       "          ...,\n",
       "          [0.6313726 , 0.31764707, 0.36862746],\n",
       "          [0.6313726 , 0.30980393, 0.3647059 ],\n",
       "          [0.6666667 , 0.34117648, 0.4039216 ]],\n",
       " \n",
       "         [[0.4431373 , 0.20392159, 0.23529413],\n",
       "          [0.30980393, 0.14509805, 0.16078432],\n",
       "          [0.33333334, 0.14901961, 0.17254902],\n",
       "          ...,\n",
       "          [0.6       , 0.28627452, 0.3372549 ],\n",
       "          [0.6       , 0.28235295, 0.34117648],\n",
       "          [0.65882355, 0.34117648, 0.40000004]]],\n",
       " \n",
       " \n",
       "        ...,\n",
       " \n",
       " \n",
       "        [[[0.18431373, 0.23529413, 0.41176474],\n",
       "          [0.16862746, 0.21960786, 0.39607847],\n",
       "          [0.16862746, 0.21960786, 0.39607847],\n",
       "          ...,\n",
       "          [0.8470589 , 0.86274517, 0.8980393 ],\n",
       "          [0.83921576, 0.854902  , 0.89019614],\n",
       "          [0.85098046, 0.86666673, 0.90196085]],\n",
       " \n",
       "         [[0.15686275, 0.21176472, 0.38823533],\n",
       "          [0.18039216, 0.23529413, 0.41176474],\n",
       "          [0.16078432, 0.21568629, 0.3921569 ],\n",
       "          ...,\n",
       "          [0.8745099 , 0.89019614, 0.92549026],\n",
       "          [0.89019614, 0.9058824 , 0.94117653],\n",
       "          [0.8705883 , 0.8862746 , 0.9215687 ]],\n",
       " \n",
       "         [[0.18039216, 0.23529413, 0.41176474],\n",
       "          [0.18823531, 0.24313727, 0.41960788],\n",
       "          [0.18823531, 0.24313727, 0.427451  ],\n",
       "          ...,\n",
       "          [0.8941177 , 0.91372555, 0.93725497],\n",
       "          [0.8862746 , 0.9058824 , 0.9294118 ],\n",
       "          [0.882353  , 0.90196085, 0.92549026]],\n",
       " \n",
       "         ...,\n",
       " \n",
       "         [[0.90196085, 0.9215687 , 0.9450981 ],\n",
       "          [0.9058824 , 0.92549026, 0.9490197 ],\n",
       "          [0.90196085, 0.9215687 , 0.9450981 ],\n",
       "          ...,\n",
       "          [0.8980393 , 0.9176471 , 0.9333334 ],\n",
       "          [0.8980393 , 0.9176471 , 0.94117653],\n",
       "          [0.8980393 , 0.9176471 , 0.94117653]],\n",
       " \n",
       "         [[0.9058824 , 0.92549026, 0.9490197 ],\n",
       "          [0.9058824 , 0.92549026, 0.9490197 ],\n",
       "          [0.8941177 , 0.91372555, 0.93725497],\n",
       "          ...,\n",
       "          [0.90196085, 0.9215687 , 0.9450981 ],\n",
       "          [0.8941177 , 0.91372555, 0.93725497],\n",
       "          [0.8941177 , 0.91372555, 0.93725497]],\n",
       " \n",
       "         [[0.8980393 , 0.9176471 , 0.94117653],\n",
       "          [0.89019614, 0.909804  , 0.9333334 ],\n",
       "          [0.89019614, 0.909804  , 0.9333334 ],\n",
       "          ...,\n",
       "          [0.882353  , 0.90196085, 0.92549026],\n",
       "          [0.8862746 , 0.9058824 , 0.9294118 ],\n",
       "          [0.8941177 , 0.909804  , 0.9450981 ]]],\n",
       " \n",
       " \n",
       "        [[[0.42352945, 0.45098042, 0.47450984],\n",
       "          [0.43137258, 0.45098042, 0.47450984],\n",
       "          [0.43137258, 0.45098042, 0.47450984],\n",
       "          ...,\n",
       "          [0.40000004, 0.41176474, 0.43137258],\n",
       "          [0.40784317, 0.41960788, 0.43921572],\n",
       "          [0.4039216 , 0.42352945, 0.44705886]],\n",
       " \n",
       "         [[0.41960788, 0.44705886, 0.4784314 ],\n",
       "          [0.43137258, 0.45098042, 0.47450984],\n",
       "          [0.43137258, 0.45098042, 0.47450984],\n",
       "          ...,\n",
       "          [0.4039216 , 0.4156863 , 0.4431373 ],\n",
       "          [0.4039216 , 0.4156863 , 0.4431373 ],\n",
       "          [0.40000004, 0.41960788, 0.4431373 ]],\n",
       " \n",
       "         [[0.42352945, 0.45098042, 0.48235297],\n",
       "          [0.43137258, 0.45098042, 0.47450984],\n",
       "          [0.43921572, 0.45882356, 0.48235297],\n",
       "          ...,\n",
       "          [0.4039216 , 0.4156863 , 0.4431373 ],\n",
       "          [0.4039216 , 0.4156863 , 0.4431373 ],\n",
       "          [0.40784317, 0.41960788, 0.43921572]],\n",
       " \n",
       "         ...,\n",
       " \n",
       "         [[0.3803922 , 0.40000004, 0.4156863 ],\n",
       "          [0.37647063, 0.39607847, 0.41176474],\n",
       "          [0.3647059 , 0.38431376, 0.40000004],\n",
       "          ...,\n",
       "          [0.03529412, 0.03529412, 0.02745098],\n",
       "          [0.05490196, 0.04313726, 0.02352941],\n",
       "          [0.04313726, 0.02745098, 0.01568628]],\n",
       " \n",
       "         [[0.3803922 , 0.40000004, 0.4156863 ],\n",
       "          [0.37647063, 0.39607847, 0.41176474],\n",
       "          [0.37254903, 0.3921569 , 0.40784317],\n",
       "          ...,\n",
       "          [0.02352941, 0.03137255, 0.01960784],\n",
       "          [0.03921569, 0.02745098, 0.00784314],\n",
       "          [0.04313726, 0.02745098, 0.01568628]],\n",
       " \n",
       "         [[0.38431376, 0.4039216 , 0.41960788],\n",
       "          [0.3803922 , 0.40000004, 0.4156863 ],\n",
       "          [0.37254903, 0.3921569 , 0.40784317],\n",
       "          ...,\n",
       "          [0.02352941, 0.03137255, 0.02745098],\n",
       "          [0.02745098, 0.02352941, 0.00784314],\n",
       "          [0.04705883, 0.02745098, 0.01568628]]],\n",
       " \n",
       " \n",
       "        [[[0.67058825, 0.1137255 , 0.10980393],\n",
       "          [0.6901961 , 0.13333334, 0.12941177],\n",
       "          [0.69803923, 0.14117648, 0.13725491],\n",
       "          ...,\n",
       "          [0.33333334, 0.14117648, 0.16470589],\n",
       "          [0.3254902 , 0.13333334, 0.14901961],\n",
       "          [0.3254902 , 0.12941177, 0.14117648]],\n",
       " \n",
       "         [[0.6627451 , 0.1137255 , 0.10980393],\n",
       "          [0.6862745 , 0.12941177, 0.1254902 ],\n",
       "          [0.68235296, 0.1254902 , 0.12156864],\n",
       "          ...,\n",
       "          [0.3254902 , 0.13333334, 0.15686275],\n",
       "          [0.31764707, 0.1254902 , 0.14117648],\n",
       "          [0.29803923, 0.10588236, 0.12156864]],\n",
       " \n",
       "         [[0.65882355, 0.10980393, 0.10588236],\n",
       "          [0.67058825, 0.12156864, 0.11764707],\n",
       "          [0.654902  , 0.10588236, 0.10196079],\n",
       "          ...,\n",
       "          [0.3254902 , 0.13333334, 0.15686275],\n",
       "          [0.30980393, 0.11764707, 0.13333334],\n",
       "          [0.3254902 , 0.13333334, 0.14901961]],\n",
       " \n",
       "         ...,\n",
       " \n",
       "         [[0.63529414, 0.25882354, 0.26666668],\n",
       "          [0.6627451 , 0.3137255 , 0.32941177],\n",
       "          [0.6745098 , 0.34901962, 0.3803922 ],\n",
       "          ...,\n",
       "          [0.8745099 , 0.58431375, 0.48627454],\n",
       "          [0.86274517, 0.57254905, 0.47450984],\n",
       "          [0.86274517, 0.5647059 , 0.47058827]],\n",
       " \n",
       "         [[0.6509804 , 0.27450982, 0.2784314 ],\n",
       "          [0.67058825, 0.32156864, 0.3372549 ],\n",
       "          [0.6666667 , 0.34117648, 0.37254903],\n",
       "          ...,\n",
       "          [0.8588236 , 0.5764706 , 0.4784314 ],\n",
       "          [0.86274517, 0.57254905, 0.47450984],\n",
       "          [0.854902  , 0.5568628 , 0.454902  ]],\n",
       " \n",
       "         [[0.627451  , 0.2509804 , 0.25490198],\n",
       "          [0.6431373 , 0.30588236, 0.31764707],\n",
       "          [0.65882355, 0.33333334, 0.3647059 ],\n",
       "          ...,\n",
       "          [0.86274517, 0.57254905, 0.47450984],\n",
       "          [0.83921576, 0.5411765 , 0.44705886],\n",
       "          [0.82745105, 0.5254902 , 0.42352945]]]], dtype=float32),\n",
       " array([[0., 0., 0., 1.],\n",
       "        [0., 0., 0., 1.],\n",
       "        [0., 1., 0., 0.],\n",
       "        [0., 0., 0., 1.],\n",
       "        [0., 0., 0., 1.],\n",
       "        [0., 1., 0., 0.],\n",
       "        [1., 0., 0., 0.],\n",
       "        [0., 1., 0., 0.],\n",
       "        [0., 0., 0., 1.],\n",
       "        [0., 1., 0., 0.],\n",
       "        [0., 0., 0., 1.],\n",
       "        [0., 1., 0., 0.],\n",
       "        [0., 1., 0., 0.],\n",
       "        [0., 0., 1., 0.],\n",
       "        [0., 0., 0., 1.],\n",
       "        [0., 1., 0., 0.],\n",
       "        [0., 1., 0., 0.],\n",
       "        [0., 0., 0., 1.],\n",
       "        [0., 1., 0., 0.],\n",
       "        [0., 0., 0., 1.],\n",
       "        [0., 1., 0., 0.],\n",
       "        [0., 1., 0., 0.],\n",
       "        [0., 1., 0., 0.],\n",
       "        [0., 0., 0., 1.],\n",
       "        [0., 0., 0., 1.],\n",
       "        [0., 0., 0., 1.],\n",
       "        [0., 0., 0., 1.],\n",
       "        [0., 1., 0., 0.],\n",
       "        [0., 1., 0., 0.],\n",
       "        [0., 0., 0., 1.],\n",
       "        [0., 0., 1., 0.],\n",
       "        [0., 0., 0., 1.]], dtype=float32))"
      ]
     },
     "execution_count": 28,
     "metadata": {},
     "output_type": "execute_result"
    }
   ],
   "source": [
    "validation_generator.next()"
   ]
  },
  {
   "cell_type": "code",
   "execution_count": 27,
   "metadata": {},
   "outputs": [
    {
     "data": {
      "text/plain": [
       "11"
      ]
     },
     "execution_count": 27,
     "metadata": {},
     "output_type": "execute_result"
    }
   ],
   "source": [
    "test_classes = []\n",
    "test_images = []\n",
    "\n",
    "for i in range(len(test_df)):\n",
    "    expected = np.argmax()"
   ]
  },
  {
   "cell_type": "code",
   "execution_count": 96,
   "metadata": {},
   "outputs": [],
   "source": [
    "from keras.preprocessing import image\n",
    "pred_dir = '/Users/nguyen_l5/Downloads/test.jpg'\n",
    "img = image.load_img(pred_dir, target_size=(300, 300))\n",
    "img_tensor = image.img_to_array(img)\n",
    "img_tensor = np.expand_dims(img_tensor, axis=0)\n",
    "img_tensor /= 255."
   ]
  },
  {
   "cell_type": "code",
   "execution_count": 97,
   "metadata": {},
   "outputs": [
    {
     "name": "stdout",
     "output_type": "stream",
     "text": [
      "[0]\n"
     ]
    }
   ],
   "source": [
    "print(new_model.predict(img_tensor).argmax(axis=-1))"
   ]
  },
  {
   "cell_type": "code",
   "execution_count": 61,
   "metadata": {},
   "outputs": [
    {
     "ename": "ValueError",
     "evalue": "Failed to find data adapter that can handle input: <class 'pandas.core.frame.DataFrame'>, (<class 'list'> containing values of types {\"<class 'str'>\"})",
     "output_type": "error",
     "traceback": [
      "\u001b[0;31m---------------------------------------------------------------------------\u001b[0m",
      "\u001b[0;31mValueError\u001b[0m                                Traceback (most recent call last)",
      "\u001b[0;32m/var/folders/rw/pxymp48w83d24hrnsbxpzdjw000gvn/T/ipykernel_34357/410308947.py\u001b[0m in \u001b[0;36m<module>\u001b[0;34m\u001b[0m\n\u001b[1;32m      1\u001b[0m \u001b[0;31m# Evaluate the restored model\u001b[0m\u001b[0;34m\u001b[0m\u001b[0;34m\u001b[0m\u001b[0;34m\u001b[0m\u001b[0m\n\u001b[0;32m----> 2\u001b[0;31m \u001b[0mloss\u001b[0m\u001b[0;34m,\u001b[0m \u001b[0macc\u001b[0m \u001b[0;34m=\u001b[0m \u001b[0mnew_model\u001b[0m\u001b[0;34m.\u001b[0m\u001b[0mevaluate\u001b[0m\u001b[0;34m(\u001b[0m\u001b[0mtest_df\u001b[0m\u001b[0;34m,\u001b[0m \u001b[0mtest_labels\u001b[0m\u001b[0;34m,\u001b[0m \u001b[0mverbose\u001b[0m\u001b[0;34m=\u001b[0m\u001b[0;36m2\u001b[0m\u001b[0;34m)\u001b[0m\u001b[0;34m\u001b[0m\u001b[0;34m\u001b[0m\u001b[0m\n\u001b[0m\u001b[1;32m      3\u001b[0m \u001b[0mprint\u001b[0m\u001b[0;34m(\u001b[0m\u001b[0;34m'Restored model, accuracy: {:5.2f}%'\u001b[0m\u001b[0;34m.\u001b[0m\u001b[0mformat\u001b[0m\u001b[0;34m(\u001b[0m\u001b[0;36m100\u001b[0m \u001b[0;34m*\u001b[0m \u001b[0macc\u001b[0m\u001b[0;34m)\u001b[0m\u001b[0;34m)\u001b[0m\u001b[0;34m\u001b[0m\u001b[0;34m\u001b[0m\u001b[0m\n\u001b[1;32m      4\u001b[0m \u001b[0;34m\u001b[0m\u001b[0m\n\u001b[1;32m      5\u001b[0m \u001b[0mprint\u001b[0m\u001b[0;34m(\u001b[0m\u001b[0mnew_model\u001b[0m\u001b[0;34m.\u001b[0m\u001b[0mpredict\u001b[0m\u001b[0;34m(\u001b[0m\u001b[0mtest_df\u001b[0m\u001b[0;34m)\u001b[0m\u001b[0;34m.\u001b[0m\u001b[0mshape\u001b[0m\u001b[0;34m)\u001b[0m\u001b[0;34m\u001b[0m\u001b[0;34m\u001b[0m\u001b[0m\n",
      "\u001b[0;32m~/opt/anaconda3/envs/myenv/lib/python3.7/site-packages/keras/utils/traceback_utils.py\u001b[0m in \u001b[0;36merror_handler\u001b[0;34m(*args, **kwargs)\u001b[0m\n\u001b[1;32m     65\u001b[0m     \u001b[0;32mexcept\u001b[0m \u001b[0mException\u001b[0m \u001b[0;32mas\u001b[0m \u001b[0me\u001b[0m\u001b[0;34m:\u001b[0m  \u001b[0;31m# pylint: disable=broad-except\u001b[0m\u001b[0;34m\u001b[0m\u001b[0;34m\u001b[0m\u001b[0m\n\u001b[1;32m     66\u001b[0m       \u001b[0mfiltered_tb\u001b[0m \u001b[0;34m=\u001b[0m \u001b[0m_process_traceback_frames\u001b[0m\u001b[0;34m(\u001b[0m\u001b[0me\u001b[0m\u001b[0;34m.\u001b[0m\u001b[0m__traceback__\u001b[0m\u001b[0;34m)\u001b[0m\u001b[0;34m\u001b[0m\u001b[0;34m\u001b[0m\u001b[0m\n\u001b[0;32m---> 67\u001b[0;31m       \u001b[0;32mraise\u001b[0m \u001b[0me\u001b[0m\u001b[0;34m.\u001b[0m\u001b[0mwith_traceback\u001b[0m\u001b[0;34m(\u001b[0m\u001b[0mfiltered_tb\u001b[0m\u001b[0;34m)\u001b[0m \u001b[0;32mfrom\u001b[0m \u001b[0;32mNone\u001b[0m\u001b[0;34m\u001b[0m\u001b[0;34m\u001b[0m\u001b[0m\n\u001b[0m\u001b[1;32m     68\u001b[0m     \u001b[0;32mfinally\u001b[0m\u001b[0;34m:\u001b[0m\u001b[0;34m\u001b[0m\u001b[0;34m\u001b[0m\u001b[0m\n\u001b[1;32m     69\u001b[0m       \u001b[0;32mdel\u001b[0m \u001b[0mfiltered_tb\u001b[0m\u001b[0;34m\u001b[0m\u001b[0;34m\u001b[0m\u001b[0m\n",
      "\u001b[0;32m~/opt/anaconda3/envs/myenv/lib/python3.7/site-packages/keras/engine/data_adapter.py\u001b[0m in \u001b[0;36mselect_data_adapter\u001b[0;34m(x, y)\u001b[0m\n\u001b[1;32m    989\u001b[0m         \u001b[0;34m\"Failed to find data adapter that can handle \"\u001b[0m\u001b[0;34m\u001b[0m\u001b[0;34m\u001b[0m\u001b[0m\n\u001b[1;32m    990\u001b[0m         \"input: {}, {}\".format(\n\u001b[0;32m--> 991\u001b[0;31m             _type_name(x), _type_name(y)))\n\u001b[0m\u001b[1;32m    992\u001b[0m   \u001b[0;32melif\u001b[0m \u001b[0mlen\u001b[0m\u001b[0;34m(\u001b[0m\u001b[0madapter_cls\u001b[0m\u001b[0;34m)\u001b[0m \u001b[0;34m>\u001b[0m \u001b[0;36m1\u001b[0m\u001b[0;34m:\u001b[0m\u001b[0;34m\u001b[0m\u001b[0;34m\u001b[0m\u001b[0m\n\u001b[1;32m    993\u001b[0m     raise RuntimeError(\n",
      "\u001b[0;31mValueError\u001b[0m: Failed to find data adapter that can handle input: <class 'pandas.core.frame.DataFrame'>, (<class 'list'> containing values of types {\"<class 'str'>\"})"
     ]
    }
   ],
   "source": [
    "# Evaluate the restored model\n",
    "loss, acc = new_model.evaluate(test_df, test_labels, verbose=2)\n",
    "print('Restored model, accuracy: {:5.2f}%'.format(100 * acc))\n",
    "\n",
    "print(new_model.predict(test_df).shape)"
   ]
  },
  {
   "cell_type": "code",
   "execution_count": 19,
   "metadata": {
    "colab": {
     "base_uri": "https://localhost:8080/",
     "height": 411
    },
    "id": "aUVoUlTNLz_W",
    "outputId": "93bb202a-ff22-4e65-9617-886a23b204b4"
   },
   "outputs": [
    {
     "ename": "TypeError",
     "evalue": "'NoneType' object is not subscriptable",
     "output_type": "error",
     "traceback": [
      "\u001b[0;31m---------------------------------------------------------------------------\u001b[0m",
      "\u001b[0;31mTypeError\u001b[0m                                 Traceback (most recent call last)",
      "\u001b[0;32m/var/folders/rw/pxymp48w83d24hrnsbxpzdjw000gvn/T/ipykernel_32628/376464668.py\u001b[0m in \u001b[0;36m<module>\u001b[0;34m\u001b[0m\n\u001b[1;32m     26\u001b[0m   \u001b[0mplt\u001b[0m\u001b[0;34m.\u001b[0m\u001b[0mshow\u001b[0m\u001b[0;34m(\u001b[0m\u001b[0;34m)\u001b[0m\u001b[0;34m\u001b[0m\u001b[0;34m\u001b[0m\u001b[0m\n\u001b[1;32m     27\u001b[0m \u001b[0;34m\u001b[0m\u001b[0m\n\u001b[0;32m---> 28\u001b[0;31m \u001b[0mshow_accuracy\u001b[0m\u001b[0;34m(\u001b[0m\u001b[0mnew_model\u001b[0m\u001b[0;34m)\u001b[0m\u001b[0;34m\u001b[0m\u001b[0;34m\u001b[0m\u001b[0m\n\u001b[0m",
      "\u001b[0;32m/var/folders/rw/pxymp48w83d24hrnsbxpzdjw000gvn/T/ipykernel_32628/376464668.py\u001b[0m in \u001b[0;36mshow_accuracy\u001b[0;34m(history)\u001b[0m\n\u001b[1;32m      1\u001b[0m \u001b[0;32mdef\u001b[0m \u001b[0mshow_accuracy\u001b[0m\u001b[0;34m(\u001b[0m\u001b[0mhistory\u001b[0m\u001b[0;34m)\u001b[0m\u001b[0;34m:\u001b[0m\u001b[0;34m\u001b[0m\u001b[0;34m\u001b[0m\u001b[0m\n\u001b[0;32m----> 2\u001b[0;31m   \u001b[0macc\u001b[0m \u001b[0;34m=\u001b[0m \u001b[0mhistory\u001b[0m\u001b[0;34m.\u001b[0m\u001b[0mhistory\u001b[0m\u001b[0;34m[\u001b[0m\u001b[0;34m'accuracy'\u001b[0m\u001b[0;34m]\u001b[0m\u001b[0;34m\u001b[0m\u001b[0;34m\u001b[0m\u001b[0m\n\u001b[0m\u001b[1;32m      3\u001b[0m   \u001b[0mval_acc\u001b[0m \u001b[0;34m=\u001b[0m \u001b[0mhistory\u001b[0m\u001b[0;34m.\u001b[0m\u001b[0mhistory\u001b[0m\u001b[0;34m[\u001b[0m\u001b[0;34m'val_accuracy'\u001b[0m\u001b[0;34m]\u001b[0m\u001b[0;34m\u001b[0m\u001b[0;34m\u001b[0m\u001b[0m\n\u001b[1;32m      4\u001b[0m   \u001b[0mloss\u001b[0m \u001b[0;34m=\u001b[0m \u001b[0mhistory\u001b[0m\u001b[0;34m.\u001b[0m\u001b[0mhistory\u001b[0m\u001b[0;34m[\u001b[0m\u001b[0;34m'loss'\u001b[0m\u001b[0;34m]\u001b[0m\u001b[0;34m\u001b[0m\u001b[0;34m\u001b[0m\u001b[0m\n\u001b[1;32m      5\u001b[0m   \u001b[0mval_loss\u001b[0m \u001b[0;34m=\u001b[0m \u001b[0mhistory\u001b[0m\u001b[0;34m.\u001b[0m\u001b[0mhistory\u001b[0m\u001b[0;34m[\u001b[0m\u001b[0;34m'val_loss'\u001b[0m\u001b[0;34m]\u001b[0m\u001b[0;34m\u001b[0m\u001b[0;34m\u001b[0m\u001b[0m\n",
      "\u001b[0;31mTypeError\u001b[0m: 'NoneType' object is not subscriptable"
     ]
    }
   ],
   "source": [
    "def show_accuracy(history):\n",
    "  acc = history.history['accuracy']\n",
    "  val_acc = history.history['val_accuracy']\n",
    "  loss = history.history['loss']\n",
    "  val_loss = history.history['val_loss']\n",
    "  epochs = range(1, len(acc)+1)\n",
    "  print(\"acc: \", acc)\n",
    "  print(\"val_acc: \", val_acc)\n",
    "  print(\"loss: \", loss)\n",
    "  print(\"val_loss: \", val_loss)\n",
    "  \n",
    "  fig, ax1 = plt.subplots()\n",
    "  fig.tight_layout()\n",
    "  ax1.axis(ymin = 0.3, ymax = 1.0)\n",
    "  ax1.set_xlabel('epocs')\n",
    "  ax1.set_ylabel('accurary')\n",
    "  ax1.plot(epochs, acc, 'r--', label='Training accuracy')\n",
    "  ax1.plot(epochs, val_acc, 'b', label='Validation accuracy')\n",
    "  ax2 = ax1.twinx() \n",
    "  ax2.set_ylabel('loss')\n",
    "  ax2.axis(ymin = 0.0, ymax = 2.7)\n",
    "  ax2.plot(epochs, loss, 'r--', label='Training')\n",
    "  ax2.plot(epochs, val_loss, 'b', label='Validation')\n",
    "  plt.title('Training and validation accuracy / loss')\n",
    "  plt.legend(loc=\"lower left\")#\"best\")#0\n",
    "  plt.show()\n",
    "\n",
    "show_accuracy(new_model)"
   ]
  },
  {
   "cell_type": "code",
   "execution_count": null,
   "metadata": {
    "colab": {
     "base_uri": "https://localhost:8080/",
     "height": 501
    },
    "id": "zaHKGvC5Jhhh",
    "outputId": "db5dec5c-2a32-4e61-d5ad-369bd6f32db7"
   },
   "outputs": [],
   "source": [
    "from collections import Counter\n",
    "from sklearn.metrics import confusion_matrix\n",
    "from sklearn.metrics import classification_report\n",
    "import itertools\n",
    "\n",
    "def plot_confusion_matrix(cm, classes_map,\n",
    "                          normalize=False,\n",
    "                          title='Confusion Matrix',\n",
    "                          cmap=plt.cm.Blues):\n",
    "\n",
    "    plt.imshow(cm, interpolation='nearest', cmap = cmap)\n",
    "    plt.title(title)\n",
    "    plt.colorbar()\n",
    "    tick_marks = np.arange(len(classes_map))\n",
    "    inv_map = {v: k for k, v in classes_map.items()}\n",
    "    labels = inv_map.values()\n",
    "    plt.xticks(tick_marks, labels, rotation=45)\n",
    "    plt.yticks(tick_marks, labels)\n",
    "    if normalize:\n",
    "        cm = np.around(cm.astype('float') / cm.sum(axis = 1)[:, np.newaxis], 2)\n",
    "    thresh = cm.max() / 2.\n",
    "    for i, j in itertools.product(range(cm.shape[0]), range(cm.shape[1])):\n",
    "        plt.text(j, i, cm[i, j],\n",
    "                 horizontalalignment=\"center\",\n",
    "                 color = \"white\" if cm[i, j] > thresh else \"black\")\n",
    "    plt.tight_layout()\n",
    "    plt.ylabel('True class')\n",
    "    plt.xlabel('Predicted class')\n",
    "\n",
    "\n",
    "validation_classes = []\n",
    "validation_images = []\n",
    "\n",
    "for i in range( -(-validation_generator.samples // validation_generator.batch_size)):\n",
    "   batch = validation_generator.next()\n",
    "   expected = np.argmax(batch[1], axis = 1) \n",
    "   validation_classes.extend(expected)\n",
    "   validation_images.extend(batch[0])\n",
    "\n",
    "validation_classes = np.array(validation_classes)\n",
    "validation_images = np.array(validation_images)\n",
    "\n",
    "Y_pred = model.predict(validation_images)\n",
    "y_pred = np.argmax(Y_pred, axis=1)\n",
    "\n",
    "\n",
    "print(classification_report(validation_classes, y_pred, \n",
    "\t\ttarget_names = ['CHIN', 'MOUTH_CHIN', 'NOSE_MOUTH', 'CORRECT']))\n",
    "\n",
    "cfs_mt = confusion_matrix(validation_classes, y_pred)\n",
    "classes = {'CHIN': 0, 'MOUTH_CHIN': 1, 'NOSE_MOUTH': 2, 'CORRECT': 3}\n",
    "plot_confusion_matrix(cfs_mt, classes_map = classes)"
   ]
  }
 ],
 "metadata": {
  "colab": {
   "collapsed_sections": [
    "0Nck1YxQFw0p",
    "_2B_jAsHojLv",
    "MxfOi1h12uWp"
   ],
   "name": "correctly/incorrectly worn face mask detection (cleaned)",
   "provenance": []
  },
  "kernelspec": {
   "display_name": "Python 3 (ipykernel)",
   "language": "python",
   "name": "python3"
  },
  "language_info": {
   "codemirror_mode": {
    "name": "ipython",
    "version": 3
   },
   "file_extension": ".py",
   "mimetype": "text/x-python",
   "name": "python",
   "nbconvert_exporter": "python",
   "pygments_lexer": "ipython3",
   "version": "3.7.11"
  }
 },
 "nbformat": 4,
 "nbformat_minor": 1
}
